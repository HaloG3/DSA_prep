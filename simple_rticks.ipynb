{
 "cells": [
  {
   "cell_type": "markdown",
   "id": "fa4724e2",
   "metadata": {},
   "source": [
    "# conver a number to  string and then to list "
   ]
  },
  {
   "cell_type": "code",
   "execution_count": null,
   "id": "da17636a",
   "metadata": {},
   "outputs": [
    {
     "name": "stdout",
     "output_type": "stream",
     "text": [
      "[1, 2, 3, 4, 5]\n"
     ]
    }
   ],
   "source": [
    "n = 12345\n",
    "res = list(map(int, str(n)))     # we convert the number to list and inside that to string \n",
    "\n",
    "print(res)  # Output: [1, 2, 3, 4, 5]"
   ]
  },
  {
   "cell_type": "code",
   "execution_count": 16,
   "id": "968a5eb2",
   "metadata": {},
   "outputs": [
    {
     "name": "stdout",
     "output_type": "stream",
     "text": [
      "[1, 2, 3, 4, 5]\n"
     ]
    }
   ],
   "source": [
    "n = 12345\n",
    "res = [int(digit) for digit in str(n)]\n",
    "print(res)  # Output: [1, 2, 3, 4, 5]"
   ]
  },
  {
   "cell_type": "code",
   "execution_count": null,
   "id": "efde553b",
   "metadata": {},
   "outputs": [
    {
     "name": "stdout",
     "output_type": "stream",
     "text": [
      "[8, 5, 6, 5, 5, 2, 5, 2]\n"
     ]
    }
   ],
   "source": [
    "# without convering to stirng\n",
    "t = 85655252\n",
    "lst = []\n",
    "def addtoLst(t):\n",
    "    while t>0:\n",
    "        lst.append(t%10)\n",
    "        t//=10\n",
    "\n",
    "addtoLst(t)\n",
    "print(lst[::-1])"
   ]
  },
  {
   "cell_type": "markdown",
   "id": "934135bd",
   "metadata": {},
   "source": [
    "# convert a list to dictionary with index as key and elemnt as value \n",
    "\n"
   ]
  },
  {
   "cell_type": "code",
   "execution_count": null,
   "id": "8691548d",
   "metadata": {},
   "outputs": [],
   "source": [
    "s = \"hello\"\n",
    "char_dict = {ch: idx for idx, ch in enumerate(list(s))}\n",
    "print(char_dict)\n",
    "\n",
    "# we can also conver the number list to dict(o)"
   ]
  },
  {
   "cell_type": "markdown",
   "id": "a91631b8",
   "metadata": {},
   "source": [
    "## take 2 input at a single time as\n"
   ]
  },
  {
   "cell_type": "code",
   "execution_count": null,
   "id": "52b30905",
   "metadata": {},
   "outputs": [],
   "source": [
    "inp = str(input()).split('  ')\n",
    "print(inp)\n",
    "h,r = inp[0],inp[1]\n",
    "\n",
    "print(h,r)\n",
    "\n",
    "# 24< >< >12    now this h = 24 and r= 12 "
   ]
  },
  {
   "cell_type": "code",
   "execution_count": null,
   "id": "6cf73b54",
   "metadata": {},
   "outputs": [],
   "source": [
    "# dividing thelist into equal parts \n",
    "#n = number of parts \n",
    "# lst =  list we want t0 divide \n",
    "[lst[i:i + n] for i in range(0, len(lst), n)]\n",
    "   "
   ]
  },
  {
   "cell_type": "markdown",
   "id": "8283ad07",
   "metadata": {},
   "source": []
  },
  {
   "cell_type": "markdown",
   "id": "1d62e6af",
   "metadata": {},
   "source": [
    "# check number is a palimdrome or not \n"
   ]
  },
  {
   "cell_type": "code",
   "execution_count": null,
   "id": "10b4335e",
   "metadata": {},
   "outputs": [
    {
     "name": "stdout",
     "output_type": "stream",
     "text": [
      "ALMAMLA\n"
     ]
    }
   ],
   "source": [
    "def isPalindrome(self, x: int) -> bool:\n",
    "        s = str(x) # we change the number to string and then reverse the sting \n",
    "        srev = s[::-1]\n",
    "        if(s == srev):\n",
    "            return True\n",
    "        else:\n",
    "            return False\n",
    "        \n",
    "# without converting to the string\n",
    "class Solution:\n",
    "    def isPalindrome(self, x: int) -> bool: # we use recursion here\n",
    "        if x < 0 or (x and x % 10 == 0): # base case \n",
    "            return False\n",
    "        y = 0\n",
    "        while y < x:\n",
    "            y = y * 10 + x % 10  \n",
    "            x //= 10\n",
    "        return x in (y, y // 10)\n",
    "    \n",
    "### 0r \n",
    "\n",
    "    def isPalindrome(self, x: int) -> bool:\n",
    "        if x < 0:\n",
    "            return False\n",
    "        original, reverse = x, 0\n",
    "        while original:\n",
    "            digit, original = original % 10, original // 10\n",
    "            reverse = reverse * 10 + digit\n",
    "\n",
    "        return reverse == x"
   ]
  },
  {
   "cell_type": "markdown",
   "id": "c191fec8",
   "metadata": {},
   "source": [
    "# check a string is palindrome or not\n",
    "\n"
   ]
  },
  {
   "cell_type": "code",
   "execution_count": 25,
   "id": "a2402bea",
   "metadata": {},
   "outputs": [
    {
     "name": "stdout",
     "output_type": "stream",
     "text": [
      "True\n"
     ]
    }
   ],
   "source": [
    "def isPalindrome(s: str) -> bool:\n",
    "       \n",
    "        srev = s[::-1]  # we change the string to list  and then fetch the numbers form end \n",
    "        if(s == srev):\n",
    "            return True\n",
    "        else:\n",
    "            return False\n",
    "\n",
    "s= \"qwewq\"\n",
    "print(isPalindrome(s))"
   ]
  },
  {
   "cell_type": "markdown",
   "id": "43b1a3db",
   "metadata": {},
   "source": [
    "# reverse a number"
   ]
  },
  {
   "cell_type": "code",
   "execution_count": null,
   "id": "25c4fa15",
   "metadata": {},
   "outputs": [
    {
     "name": "stdout",
     "output_type": "stream",
     "text": [
      "54321\n"
     ]
    }
   ],
   "source": [
    "def reverse(self, x: int) -> int:\n",
    "        answer = 0   # we take a variable \n",
    "        str_num = str(x)   # convert the number to string \n",
    "        if str_num[0] == \"-\":   # logic for -ve number  if index 0 = - then \n",
    "            str_num = str_num[1:]# we start number from 1 index \n",
    "            answer = int(str_num[::-1])*-1# and thenmultiply it by -1\n",
    "        else: # logic for positive numbers \n",
    "            answer = int(str_num[::-1])\n",
    "        return answer\n",
    "\n",
    "\n",
    "\n",
    "# in below answwer the negative number is not reversed \n",
    "def reverse( x: int) -> int:\n",
    "        s = str(x)\n",
    "        srev = s[::-1]\n",
    "        return srev\n",
    "x = 12345\n",
    "print(reverse(x))\n",
    "\n",
    "# without convering to string "
   ]
  },
  {
   "cell_type": "code",
   "execution_count": null,
   "id": "db3f210b",
   "metadata": {},
   "outputs": [
    {
     "name": "stdout",
     "output_type": "stream",
     "text": [
      "120\n"
     ]
    }
   ],
   "source": [
    "# calculating the factorial of any number : by recursion / dp / memoisaton technique\n",
    "memo = {}\n",
    "def factorial(num):\n",
    "    if  num ==0 : \n",
    "        return 1\n",
    "    if num in memo:\n",
    "\n",
    "        return memo[num]\n",
    "    \n",
    "    memo[num]  = num*factorial(num-1)\n",
    "    \n",
    "    return memo [num]\n",
    "num = 5\n",
    "\n",
    "print(factorial(num))\n"
   ]
  },
  {
   "cell_type": "markdown",
   "id": "945877d6",
   "metadata": {},
   "source": [
    "# 2 pointers \n",
    "\n"
   ]
  },
  {
   "cell_type": "code",
   "execution_count": null,
   "id": "8593c8fd",
   "metadata": {},
   "outputs": [],
   "source": [
    "#how to initialize the pointer : as we initalize the variable \n",
    "\n",
    "left_pointer = 0\n",
    "right_pointer = len(n)-1  # means at last index \n",
    "# we do some opertation  and then move the pointer \n",
    "while left_pointer<= right_pointer : # apply any conditions \n",
    "left_pointer+=1  # left pointer by one index \n",
    "right_pointer -=1 # right pointer by one index toward the left pointer \n"
   ]
  },
  {
   "cell_type": "markdown",
   "id": "3c09589a",
   "metadata": {},
   "source": [
    "# example \n",
    "# 977 lc square of sorted array \n"
   ]
  },
  {
   "cell_type": "code",
   "execution_count": null,
   "id": "2fc09d55",
   "metadata": {},
   "outputs": [],
   "source": [
    "def sortedSquares(self,nums):\n",
    "    left = 0\n",
    "    right  = len(nums)-1\n",
    "    result = []  # we initalize the list and later we put some value in it \n",
    "    while left<= right: \n",
    "        if abs(nums[left])>abs(num[right]):\n",
    "            result.append(nums[left]**2)\n",
    "            left+=1\n",
    "        else: \n",
    "            result.append(nums[right]**2)\n",
    "            right-=1\n",
    "    result.reverse()\n",
    "    return result\n",
    "\n",
    "\n",
    "\n",
    "# or we can simple use sorted function from python \n",
    "return sorted([i * i for i in nums])"
   ]
  },
  {
   "attachments": {
    "image.png": {
     "image/png": "[encoded data removed]"
    }
   },
   "cell_type": "markdown",
   "id": "6e93f874",
   "metadata": {},
   "source": [
    "![image.png](attachment:image.png)\n",
    "\n",
    "## aproach\n",
    "### brute force : = \n",
    "- make a list of 1 to num and then search the  n*n== num \n",
    "- if yes retrun true else false \n",
    "### Use binary search algorithm in tha same list \n",
    "- it divides the list in two part\n",
    "- if number less than middle then it will take the right part \n",
    "- else take left part and applied the same \n"
   ]
  },
  {
   "cell_type": "code",
   "execution_count": null,
   "id": "58fb1ec6",
   "metadata": {},
   "outputs": [],
   "source": [
    "def isPerfectSquare(self, num: int) -> bool:\n",
    "    \n",
    "    \n",
    "        for i in range (1,num+1):  \n",
    "            if i*i== num: \n",
    "                return True \n",
    "            \n",
    "            if i*i>num:\n",
    "                return False\n",
    "        \n",
    "\n",
    "\n",
    "# binary search\n",
    "def isPerfectSquare(num):\n",
    "    l, r = 1, num\n",
    "    while l<=r: \n",
    "            mid = (l+r)//2\n",
    "            if mid*mid >num:\n",
    "                r= mid-1\n",
    "            elif mid*mid< num:\n",
    "                l = mid+1\n",
    "            else:\n",
    "                 return True\n",
    "    return False \n",
    "\n",
    "        \n",
    "          "
   ]
  },
  {
   "cell_type": "code",
   "execution_count": null,
   "id": "9a3b93aa",
   "metadata": {},
   "outputs": [],
   "source": []
  },
  {
   "cell_type": "markdown",
   "id": "a4ab6731",
   "metadata": {},
   "source": [
    "# printing the fibonacci series "
   ]
  },
  {
   "cell_type": "code",
   "execution_count": null,
   "id": "3fcc4d5f",
   "metadata": {},
   "outputs": [],
   "source": [
    "# The following code prints the Fibonacci sequence using iteration\n",
    "\n",
    "# Defining function\n",
    "def fibonacci(n):\n",
    "    a, b = 0, 1\n",
    "    for _ in range(n):\n",
    "        print(a, end=\" \")\n",
    "        a, b = b, a + b\n",
    "\n",
    "# Taking user input\n",
    "n = int(input(\"Enter the number of terms: \"))\n",
    "\n",
    "# Calling the function\n",
    "fibonacci(n)\n",
    "\n"
   ]
  },
  {
   "cell_type": "code",
   "execution_count": null,
   "id": "d70f4cca",
   "metadata": {},
   "outputs": [
    {
     "name": "stdout",
     "output_type": "stream",
     "text": [
      "0\n",
      "1\n",
      "1\n",
      "2\n",
      "3\n",
      "None\n"
     ]
    }
   ],
   "source": [
    "# printing the fibonacci series  \n",
    "def fib(num):\n",
    "    a,b = 0,1\n",
    "    if num<1:\n",
    "        print('null')\n",
    "    elif num ==1:\n",
    "        print(a)\n",
    "    elif num ==2:\n",
    "        print(a)\n",
    "        print(b)\n",
    "    elif num >2:\n",
    "        print(a)\n",
    "        print(b)\n",
    "        for _ in range (num-2):\n",
    "            c = a+b\n",
    "            a,b = b, c \n",
    "            print(c)\n",
    "    \n",
    "num = 5\n",
    "print(fib(num))\n"
   ]
  },
  {
   "cell_type": "markdown",
   "id": "41161b85",
   "metadata": {},
   "source": [
    "#  Python Program to Print Fibonacci Sequence Using Dynamic Programming (Memoization)"
   ]
  },
  {
   "cell_type": "code",
   "execution_count": null,
   "id": "5a4848a3",
   "metadata": {},
   "outputs": [],
   "source": [
    "# Function to generate Fibonacci sequence using memoization\n",
    "def fibonacci_memo(n, memo={}):\n",
    "    if n in memo:\n",
    "        return memo[n]\n",
    "    if n <= 1:\n",
    "        return n\n",
    "    memo[n] = fibonacci_memo(n - 1, memo) + fibonacci_memo(n - 2, memo)\n",
    "    return memo[n]\n",
    "\n",
    "# Number of terms in the Fibonacci series\n",
    "terms = 10\n",
    "\n",
    "if terms <= 0:\n",
    "    print(\"Please enter a positive number\")\n",
    "else:\n",
    "    print(\"Fibonacci Series:\", end=\" \")\n",
    "    for i in range(terms):\n",
    "        print(fibonacci_memo(i), end=\" \")\n",
    "\n"
   ]
  },
  {
   "cell_type": "code",
   "execution_count": 76,
   "id": "34427bf6",
   "metadata": {},
   "outputs": [],
   "source": [
    "# usinf generator function\n",
    "def fib(num):\n",
    "    if num<0:\n",
    "        print('null')\n",
    "    a, b = 0, 1\n",
    "    while True:\n",
    "        yield a\n",
    "        a, b = b, a + b\n",
    "num = 5\n",
    "res = fib(num)\n",
    "#rint(next(res)) we need to genreate the next element "
   ]
  },
  {
   "attachments": {
    "image.png": {
     "image/png": "[encoded data removed]"
    }
   },
   "cell_type": "markdown",
   "id": "79fc7505",
   "metadata": {},
   "source": [
    "![image.png](attachment:image.png)\n",
    "\n",
    "# solution \n"
   ]
  },
  {
   "cell_type": "code",
   "execution_count": null,
   "id": "f26bc434",
   "metadata": {},
   "outputs": [
    {
     "name": "stdout",
     "output_type": "stream",
     "text": [
      "81\n"
     ]
    }
   ],
   "source": [
    "# inefficient solution \n",
    "def max_subarray_sum_cubic(arr):\n",
    "    n = len(arr)\n",
    "    max_sum = float('-inf')\n",
    "    for i in range(n):\n",
    "        for j in range(i, n):\n",
    "            current_sum = sum(arr[i:j+1])\n",
    "            if current_sum > max_sum:\n",
    "                max_sum = current_sum\n",
    "    return max_sum   \n",
    "#Outer Loop (i): Iterates over all possible starting indices of subarrays.\n",
    "#Middle Loop (j): Iterates over all possible ending indices of subarrays, starting from i.\n",
    "#Inner Operation (sum(arr[i:j+1])): Computes the sum of the subarray from index i to j.\n",
    "# efficient solution \n",
    "import sys\n",
    "class Solution:\n",
    "    def maxSubArray(self, nums: List[int]) -> int:\n",
    "        #We will use kadane algorithm here this alogithm is very simple \n",
    "        #it uses two variables max_sum and currSum, every time currSum now \n",
    "        #get below 0 we just ignore the sum and make this variable 0 what it will actually do\n",
    "        #it will be like ignoring those indexs which gave us negative sum\n",
    "\n",
    "        max_sum = -sys.maxsize-1\n",
    "        currSum = 0\n",
    "        for num in nums:\n",
    "            currSum += num\n",
    "            if max_sum < currSum:\n",
    "                max_sum = currSum\n",
    "            if currSum < 0:\n",
    "                currSum = 0\n",
    "        return max_sum"
   ]
  },
  {
   "cell_type": "code",
   "execution_count": null,
   "id": "a4b6f46a",
   "metadata": {},
   "outputs": [
    {
     "ename": "TypeError",
     "evalue": "'int' object is not subscriptable",
     "output_type": "error",
     "traceback": [
      "\u001b[31m---------------------------------------------------------------------------\u001b[39m",
      "\u001b[31mTypeError\u001b[39m                                 Traceback (most recent call last)",
      "\u001b[36mCell\u001b[39m\u001b[36m \u001b[39m\u001b[32mIn[79]\u001b[39m\u001b[32m, line 6\u001b[39m\n\u001b[32m      4\u001b[39m j=i\n\u001b[32m      5\u001b[39m \u001b[38;5;28;01mfor\u001b[39;00m j \u001b[38;5;129;01min\u001b[39;00m \u001b[38;5;28mrange\u001b[39m (\u001b[38;5;28mlen\u001b[39m(nums)):\n\u001b[32m----> \u001b[39m\u001b[32m6\u001b[39m     total = \u001b[38;5;28msum\u001b[39m(\u001b[43mnum\u001b[49m\u001b[43m[\u001b[49m\u001b[43mi\u001b[49m\u001b[43m:\u001b[49m\u001b[43mj\u001b[49m\u001b[43m+\u001b[49m\u001b[32;43m1\u001b[39;49m\u001b[43m]\u001b[49m)\n\u001b[32m      7\u001b[39m     \u001b[38;5;28;01mif\u001b[39;00m total == \u001b[32m9\u001b[39m:\n\u001b[32m      8\u001b[39m         \u001b[38;5;28mprint\u001b[39m(i,j)\n",
      "\u001b[31mTypeError\u001b[39m: 'int' object is not subscriptable"
     ]
    }
   ],
   "source": [
    "# 2 sum  in a sorted array \n",
    "def twosum(num: List[int], target:int):\n",
    "    l,r = 0, len(num)-1\n",
    "    while l<r:\n",
    "        curSum = num[l]+num[r]\n",
    "        if curSum > target:\n",
    "            r-=1\n",
    "        elif curSum<target:\n",
    "            l+=1\n",
    "        else:\n",
    "            return [l+1, r+1]\n",
    "    return []\n",
    "        \n",
    "\n"
   ]
  },
  {
   "cell_type": "markdown",
   "id": "00454e74",
   "metadata": {},
   "source": [
    "## pattern questions \n"
   ]
  },
  {
   "cell_type": "code",
   "execution_count": 34,
   "id": "575f3402",
   "metadata": {},
   "outputs": [
    {
     "name": "stdout",
     "output_type": "stream",
     "text": [
      "* \n",
      "* * \n",
      "* * * \n",
      "* * * * \n",
      "* * * * * \n"
     ]
    }
   ],
   "source": [
    "# print the triangle right angled \n",
    "n = 5\n",
    "for i in range (n):\n",
    "   \n",
    "    for j in range (i+1):\n",
    "        \n",
    "        print('*',end= ' ')\n",
    "    print()\n",
    "         "
   ]
  },
  {
   "cell_type": "code",
   "execution_count": 35,
   "id": "c0eab336",
   "metadata": {},
   "outputs": [
    {
     "name": "stdout",
     "output_type": "stream",
     "text": [
      "* * * * * \n",
      "* * * * \n",
      "* * * \n",
      "* * \n",
      "* \n"
     ]
    }
   ],
   "source": [
    "# print the triangle  reverse right angled \n",
    "n = 5\n",
    "for i in range (n):\n",
    "   \n",
    "    for j in range (i,n):\n",
    "        \n",
    "        print('*',end= ' ')\n",
    "    print()"
   ]
  },
  {
   "cell_type": "code",
   "execution_count": 42,
   "id": "07920c8f",
   "metadata": {},
   "outputs": [
    {
     "name": "stdout",
     "output_type": "stream",
     "text": [
      "          * \n",
      "        * * \n",
      "      * * * \n",
      "    * * * * \n",
      "  * * * * * \n"
     ]
    }
   ],
   "source": [
    "# print the triangle right angled \n",
    "n = 5\n",
    "for i in range (n):\n",
    "   \n",
    "    for j in range (i,n):\n",
    "        \n",
    "        print('  ',end= '')\n",
    "    for j in range (i+1):\n",
    "        print('*', end= ' ')\n",
    "\n",
    "    print('')"
   ]
  },
  {
   "cell_type": "code",
   "execution_count": 50,
   "id": "f6f54db6",
   "metadata": {},
   "outputs": [
    {
     "name": "stdout",
     "output_type": "stream",
     "text": [
      "  * * * * * \n",
      "    * * * * \n",
      "      * * * \n",
      "        * * \n",
      "          * \n"
     ]
    }
   ],
   "source": [
    "# print the triangle right angled \n",
    "n = 5\n",
    "for i in range (n):\n",
    "   \n",
    "    for j in range (i+1):\n",
    "        \n",
    "        print('  ',end= '')\n",
    "    for j in range (i,n):\n",
    "        print('*', end= ' ')\n",
    "   \n",
    "    print('')"
   ]
  },
  {
   "cell_type": "code",
   "execution_count": 51,
   "id": "e7fbd254",
   "metadata": {},
   "outputs": [
    {
     "name": "stdout",
     "output_type": "stream",
     "text": [
      "  * * * * * * * * * \n",
      "    * * * * * * * \n",
      "      * * * * * \n",
      "        * * * \n",
      "          * \n"
     ]
    }
   ],
   "source": [
    "  \n",
    "# print the triangle right angled \n",
    "n = 5\n",
    "for i in range (n):\n",
    "   \n",
    "    for j in range (i+1):\n",
    "        \n",
    "        print('  ',end= '')\n",
    "    for j in range (i,n):\n",
    "        print('*', end= ' ')\n",
    "    for j in range (i+1,n):\n",
    "        \n",
    "        print('*',end= ' ')\n",
    "   \n",
    "    print('')"
   ]
  },
  {
   "cell_type": "code",
   "execution_count": 55,
   "id": "d02f7bcd",
   "metadata": {},
   "outputs": [
    {
     "name": "stdout",
     "output_type": "stream",
     "text": [
      "          * \n",
      "        * * * \n",
      "      * * * * * \n",
      "    * * * * * * * \n",
      "  * * * * * * * * * \n"
     ]
    }
   ],
   "source": [
    "# print the triangle right angled \n",
    "n = 5\n",
    "for i in range (n):\n",
    "   \n",
    "    for j in range (i,n):\n",
    "        \n",
    "        print('  ',end= '')\n",
    "    for j in range (i+1):\n",
    "        print('*', end= ' ')\n",
    "    for j in range (i):\n",
    "        print('*', end= ' ')\n",
    "        \n",
    "   \n",
    "    print('')"
   ]
  },
  {
   "cell_type": "code",
   "execution_count": 80,
   "id": "9a8ec284",
   "metadata": {},
   "outputs": [
    {
     "name": "stdout",
     "output_type": "stream",
     "text": [
      "          * \n",
      "        * * * \n",
      "      * * * * * \n",
      "    * * * * * * * \n",
      "  * * * * * * * * * \n",
      "    * * * * * * * \n",
      "      * * * * * \n",
      "        * * * \n",
      "          * \n"
     ]
    }
   ],
   "source": [
    "# print the triangle right angled \n",
    "n = 5\n",
    "for i in range (n-1):\n",
    "    for j in range (i,n):\n",
    "        print('  ',end= '')\n",
    "    for j in range (i+1):\n",
    "        print('*', end= ' ')\n",
    "    for j in range (i):\n",
    "        print('*', end= ' ')\n",
    "    print()\n",
    "for i in range (n):\n",
    "    for j in range (i+1):\n",
    "        print('  ',end= '')\n",
    "    for j in range (i,n):\n",
    "        print('*', end= ' ')\n",
    "    for j in range (i+1,n):\n",
    "        print('*',end= ' ')\n",
    "    print('')"
   ]
  }
 ],
 "metadata": {
  "kernelspec": {
   "display_name": "Python 3",
   "language": "python",
   "name": "python3"
  },
  "language_info": {
   "codemirror_mode": {
    "name": "ipython",
    "version": 3
   },
   "file_extension": ".py",
   "mimetype": "text/x-python",
   "name": "python",
   "nbconvert_exporter": "python",
   "pygments_lexer": "ipython3",
   "version": "3.12.10"
  }
 },
 "nbformat": 4,
 "nbformat_minor": 5
}
