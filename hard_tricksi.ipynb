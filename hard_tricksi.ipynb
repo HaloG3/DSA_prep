{
 "cells": [
  {
   "cell_type": "markdown",
   "id": "2429f5af",
   "metadata": {},
   "source": [
    " ## Traping the rain water\n",
    " "
   ]
  },
  {
   "cell_type": "code",
   "execution_count": null,
   "id": "a46a3fac",
   "metadata": {},
   "outputs": [],
   "source": [
    "class Solution: # simple first max height \n",
    "    def trap(self, height: List[int]) -> int:\n",
    "        if not height:\n",
    "            return 0\n",
    "        left = 0\n",
    "        right = len(height) - 1\n",
    "        left_max = 0\n",
    "        right_max = 0\n",
    "        tap_water = 0\n",
    "\n",
    "        while left < right: \n",
    "            if height[left] < height[right]:\n",
    "                if height[left] >= left_max:\n",
    "                    left_max = height[left]\n",
    "                else:\n",
    "                    tap_water += left_max - height[left]\n",
    "                left += 1\n",
    "            else:\n",
    "                if height[right] >= right_max:\n",
    "                    right_max = height[right]\n",
    "                else:\n",
    "                    tap_water += right_max - height[right]\n",
    "                right -= 1\n",
    "        return tap_water"
   ]
  },
  {
   "cell_type": "code",
   "execution_count": null,
   "id": "51bf729a",
   "metadata": {},
   "outputs": [],
   "source": [
    "class Solution:\n",
    "    def trap(self, height: List[int]) -> int:\n",
    "\n",
    "        trapped_water = 0\n",
    "        left = 0\n",
    "        right = len(height) - 1\n",
    "\n",
    "        max_left, max_right = height[left], height[right]\n",
    "\n",
    "        while left < right:\n",
    "\n",
    "            if max_left > max_right:\n",
    "                right -= 1\n",
    "                max_right = max(max_right, height[right])\n",
    "                trapped_water += max_right - height[right]\n",
    "            else:\n",
    "                left += 1\n",
    "                max_left = max(max_left, height[left])\n",
    "                trapped_water += max_left - height[left]                \n",
    "\n",
    "        return trapped_water\n",
    "        "
   ]
  },
  {
   "cell_type": "code",
   "execution_count": null,
   "id": "16c5df0b",
   "metadata": {},
   "outputs": [],
   "source": [
    "#Using recurssion \n",
    "class Solution:\n",
    "    def trap(self, height: List[int]) -> int:\n",
    "        if not height:\n",
    "            return 0\n",
    "        left = 0\n",
    "        right = len(height) - 1\n",
    "        left_max = 0\n",
    "        right_max = 0\n",
    "        tap_water = 0\n",
    "\n",
    "        while left < right: \n",
    "            if height[left] < height[right]:\n",
    "                if height[left] >= left_max:\n",
    "                    left_max = height[left]\n",
    "                else:\n",
    "                    tap_water += left_max - height[left]\n",
    "                left += 1\n",
    "            else:\n",
    "                if height[right] >= right_max:\n",
    "                    right_max = height[right]\n",
    "                else:\n",
    "                    tap_water += right_max - height[right]\n",
    "                right -= 1\n",
    "        return tap_water"
   ]
  }
 ],
 "metadata": {
  "language_info": {
   "name": "python"
  }
 },
 "nbformat": 4,
 "nbformat_minor": 5
}
