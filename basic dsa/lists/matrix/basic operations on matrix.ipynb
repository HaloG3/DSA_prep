{
 "cells": [
  {
   "cell_type": "markdown",
   "id": "f7957a7c",
   "metadata": {},
   "source": [
    "#  Flip Square Submatrix Vertically\n",
    "You are given an m x n integer matrix grid, and three integers x, y, and k.\n",
    "\n",
    "The integers x and y represent the row and column indices of the top-left corner of a square submatrix and the integer k represents the size (side length) of the square submatrix.\n",
    "\n",
    "Your task is to flip the submatrix by reversing the order of its rows vertically.\n",
    "\n",
    "Return the updated matrix.\n",
    "\n",
    "\n",
    "# approach:\n",
    " 1) access the target matrix  inside the root matrix \n",
    " 2) now flip that matrix  \n",
    " 3) matrix is a list inside list so we can reverse it use reverse() method of list and access it by 2D indices so do it in code \n",
    " \n",
    " "
   ]
  },
  {
   "cell_type": "code",
   "execution_count": null,
   "id": "e5955eba",
   "metadata": {},
   "outputs": [
    {
     "name": "stdout",
     "output_type": "stream",
     "text": [
      "\n",
      "[1, 2, 3, 4] \n",
      " [5, 6, 7, 8] \n",
      " [9, 10, 11, 12] \n",
      " [13, 14, 15, 16] \n",
      "\n",
      "[[13, 14, 15], [9, 10, 11], [5, 6, 7]]\n",
      "\n"
     ]
    }
   ],
   "source": [
    "import numpy as np\n",
    "\n",
    "\n",
    "    \n",
    "\n",
    "def flipmatrix(rm, x,y,k):\n",
    "    mat =[]\n",
    "    for i in range(k):\n",
    "        row =[]\n",
    "        for j in range (k):\n",
    "            newrow = rm[x+j][y+i]\n",
    "            row.append(newrow)\n",
    "            \n",
    "            j+=1\n",
    "\n",
    "        mat.append(list(row.__reversed__()))\n",
    "        i+=1\n",
    "\n",
    "        \n",
    "\n",
    "    return list(map(list, zip(*mat)))\n",
    "\n",
    "\n",
    "\n",
    "\n",
    "\n",
    "rm = [[1,2,3,4],[5,6,7,8],[9,10,11,12],[13,14,15,16]]\n",
    "print(rm[0], \"\\n\",rm[1], \"\\n\",rm[2], \"\\n\", rm[3], \"\\n\")\n",
    "print(flipmatrix(rm, 1,0,3))\n",
    "\n",
    "print()\n",
    "\n"
   ]
  },
  {
   "cell_type": "code",
   "execution_count": null,
   "id": "8da9e8c0",
   "metadata": {},
   "outputs": [],
   "source": [
    "    import numpy as np\n",
    "\n",
    "    def flipmatrix(grid, x, y, k):\n",
    "        arr = np.array(grid)  # convert to numpy array for slicing\n",
    "        \n",
    "        # Extract the submatrix\n",
    "        sub = arr[x:x+k, y:y+k]\n",
    "        \n",
    "        # Flip vertically (reverse rows)\n",
    "        sub_flipped = np.flipud(sub)\n",
    "        \n",
    "        # Put it back into the original array\n",
    "        arr[x:x+k, y:y+k] = sub_flipped\n",
    "        \n",
    "        # Convert back to list of lists\n",
    "        return arr.tolist()"
   ]
  },
  {
   "cell_type": "code",
   "execution_count": 56,
   "id": "cbca2829",
   "metadata": {},
   "outputs": [
    {
     "name": "stdout",
     "output_type": "stream",
     "text": [
      "[5, 4, 23, 1]\n"
     ]
    }
   ],
   "source": [
    "mat = [1,23,4,5,]\n",
    "\n",
    "print(list(mat.__reversed__()))\n"
   ]
  },
  {
   "cell_type": "markdown",
   "id": "423cc27b",
   "metadata": {},
   "source": []
  }
 ],
 "metadata": {
  "kernelspec": {
   "display_name": "Python 3",
   "language": "python",
   "name": "python3"
  },
  "language_info": {
   "codemirror_mode": {
    "name": "ipython",
    "version": 3
   },
   "file_extension": ".py",
   "mimetype": "text/x-python",
   "name": "python",
   "nbconvert_exporter": "python",
   "pygments_lexer": "ipython3",
   "version": "3.12.10"
  }
 },
 "nbformat": 4,
 "nbformat_minor": 5
}
