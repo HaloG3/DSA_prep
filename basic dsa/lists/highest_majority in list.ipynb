{
 "cells": [
  {
   "cell_type": "code",
   "execution_count": null,
   "id": "804085ba",
   "metadata": {},
   "outputs": [],
   "source": [
    "class Solution:\n",
    "    def majorityElement(self, nums: List[int]) -> int:\n",
    "        D = {}                  # Step 1: Declare an empty dictionary\n",
    "        visit = []              # Step 2: List to keep track of visited elements\n",
    "\n",
    "        for value in nums:      # Step 3: Loop over every number in nums\n",
    "            if value not in visit:  \n",
    "                visit.append(value)  # Step 4: If number is not visited, add it to 'visit'\n",
    "                D[value] = 1         # Step 5: Add it to dictionary with initial count 1\n",
    "            else:\n",
    "                D[value] += 1        # Step 6: If already visited, increase its count in dictionary\n",
    "\n",
    "        res = max(D, key=D.get)  # Step 7: Find key with highest value in D\n",
    "        return res               # Step 8: Return the majority element\n"
   ]
  },
  {
   "cell_type": "markdown",
   "id": "2331ab0f",
   "metadata": {},
   "source": [
    "# Boyer–Moore Majority Vote Algorithm.\n",
    " version is the **Boyer–Moore Majority Vote Algorithm**.\n",
    "It’s a completely different approach from your dictionary-based solution, but it solves the same problem using **O(1) space** and **O(n) time**.\n",
    "\n",
    "\n",
    "\n",
    "### **How it works**\n",
    "\n",
    "1. **`c = 0`**\n",
    "   This is a **balance counter**.\n",
    "\n",
    "   * Positive → more occurrences of candidate than non-candidate seen so far.\n",
    "   * Zero → candidate has been \"balanced out\" by other elements.\n",
    "\n",
    "2. **`can = None`**\n",
    "   This will store the **current candidate** for majority element.\n",
    "\n",
    "3. **Loop over each number (`i`) in `nums`**:\n",
    "\n",
    "   * **If `c == 0`**, that means we currently don’t have a strong candidate, so we set:\n",
    "\n",
    "     ```python\n",
    "     can = i\n",
    "     ```\n",
    "   * Then, **update `c`**:\n",
    "\n",
    "     ```python\n",
    "     c += 1 if can == i else -1\n",
    "     ```\n",
    "\n",
    "     * If the current number equals the candidate → increment counter.\n",
    "     * If it’s different → decrement counter.\n",
    "\n",
    "4. **Why this works**:\n",
    "\n",
    "   * The majority element appears more than `n/2` times.\n",
    "   * Even if we \"cancel out\" different numbers, the majority element will survive as the last `can` after the loop ends.\n",
    "\n",
    "---\n",
    "\n"
   ]
  },
  {
   "cell_type": "code",
   "execution_count": null,
   "id": "6346ec69",
   "metadata": {},
   "outputs": [],
   "source": [
    "class Solution:\n",
    "    def majorityElement(self, nums: List[int]) -> int:\n",
    "        c = 0            # Step 1: counter for candidate element\n",
    "        can = None       # Step 2: current candidate for majority element\n",
    "\n",
    "        for i in nums:   # Step 3: loop through all numbers\n",
    "            if c == 0:        # Step 4: if counter is zero, choose new candidate\n",
    "                can = i\n",
    "            # Step 5: update counter based on whether current element == candidate\n",
    "            c += 1 if can == i else -1\n",
    "\n",
    "        return can       # Step 6: return candidate\n"
   ]
  }
 ],
 "metadata": {
  "language_info": {
   "name": "python"
  }
 },
 "nbformat": 4,
 "nbformat_minor": 5
}
