{
 "cells": [
  {
   "cell_type": "markdown",
   "id": "c0fa787f",
   "metadata": {},
   "source": [
    "# there are 5 main type of data structure in collections\n",
    "1. counter\n",
    "2. deque \n",
    "3. default dic()  orerdict() chainmap \n",
    "4. user  => list  , dict , string  \n",
    "5 named tuple"
   ]
  },
  {
   "cell_type": "markdown",
   "id": "6ab4c109",
   "metadata": {},
   "source": [
    "# 1 counter \n"
   ]
  },
  {
   "cell_type": "code",
   "execution_count": 33,
   "id": "464e6427",
   "metadata": {},
   "outputs": [
    {
     "name": "stdout",
     "output_type": "stream",
     "text": [
      "Counter({'s': 14, 'f': 12, 'a': 10, 'd': 9})\n"
     ]
    }
   ],
   "source": [
    "from collections import Counter as counter\n",
    "# for counting the letters in the string \n",
    "s = 'asasdsfsfdfsdfsadfdasfasfsadfasdfsafasdfadsfs'\n",
    "my_counter = counter(s)  # it will give the dictionary as an output \n",
    "print(my_counter) "
   ]
  },
  {
   "cell_type": "code",
   "execution_count": 8,
   "id": "aa4e12ae",
   "metadata": {},
   "outputs": [
    {
     "name": "stdout",
     "output_type": "stream",
     "text": [
      "[('s', 14), ('f', 12), ('a', 10), ('d', 9)]\n",
      "[('s', 14)]\n",
      "('s', 14)\n",
      "s\n"
     ]
    }
   ],
   "source": [
    "# for finding the most common means hig freq. element in the string\n",
    "print(my_counter.most_common())# it will give a sorted list of the dictionary  as tuples in it \n",
    "print(my_counter.most_common(1)) # means only one most highest common \n",
    "print(my_counter.most_common(1)[0]) # for accessing the tuple \n",
    "print(my_counter.most_common(1)[0][0]) # for accessing the value inside the  tuple \n",
    "\n"
   ]
  },
  {
   "cell_type": "code",
   "execution_count": 10,
   "id": "6522be91",
   "metadata": {},
   "outputs": [
    {
     "name": "stdout",
     "output_type": "stream",
     "text": [
      "['a', 'a', 'a', 'a', 'a', 'a', 'a', 'a', 'a', 'a', 's', 's', 's', 's', 's', 's', 's', 's', 's', 's', 's', 's', 's', 's', 'd', 'd', 'd', 'd', 'd', 'd', 'd', 'd', 'd', 'f', 'f', 'f', 'f', 'f', 'f', 'f', 'f', 'f', 'f', 'f', 'f']\n"
     ]
    }
   ],
   "source": [
    "print(list(my_counter.elements())) # it will give the iterable and we convert to  list and print each element separately"
   ]
  },
  {
   "cell_type": "code",
   "execution_count": 34,
   "id": "5bfeff67",
   "metadata": {},
   "outputs": [
    {
     "name": "stdout",
     "output_type": "stream",
     "text": [
      "45\n"
     ]
    }
   ],
   "source": [
    "m = my_counter.total()  # it will sum up all the elemts in the counter \n",
    "print(m)"
   ]
  },
  {
   "cell_type": "code",
   "execution_count": 35,
   "id": "668dc510",
   "metadata": {},
   "outputs": [
    {
     "name": "stdout",
     "output_type": "stream",
     "text": [
      "('f', 12)\n",
      "Counter({'s': 14, 'a': 10, 'd': 9})\n"
     ]
    }
   ],
   "source": [
    "n = my_counter\n",
    "print(n.popitem())\n",
    "\n",
    "print(my_counter)"
   ]
  },
  {
   "cell_type": "markdown",
   "id": "f59cdbc0",
   "metadata": {},
   "source": [
    "# 2. named tuple \n",
    "0  easy way to create a lightweight object types similar to the struct"
   ]
  },
  {
   "cell_type": "code",
   "execution_count": null,
   "id": "dbe11724",
   "metadata": {},
   "outputs": [
    {
     "name": "stdout",
     "output_type": "stream",
     "text": [
      "1 -3\n"
     ]
    }
   ],
   "source": [
    "from collections import namedtuple as nt \n",
    "Point= nt ('point' , 'x,y')\n",
    "pt = Point(1,-3)\n",
    "print(pt.x, pt.y)\n",
    "pt."
   ]
  },
  {
   "cell_type": "markdown",
   "id": "13d87844",
   "metadata": {},
   "source": [
    "# .3 DEfault dict () \n",
    "it is regulat dict with  only difference is a default value if not any value given \n",
    "\n"
   ]
  },
  {
   "cell_type": "code",
   "execution_count": null,
   "id": "72fe1b3c",
   "metadata": {},
   "outputs": [
    {
     "name": "stdout",
     "output_type": "stream",
     "text": [
      "0\n",
      "defaultdict(None, {'a': None, 's': None, 'd': None})\n"
     ]
    }
   ],
   "source": [
    "from collections import defaultdict as dd\n",
    "d = dd(int) \n",
    "d['a'] = 1\n",
    "d ['b'] = 5 \n",
    "print(d['c']) # it will give the default value of the int data type \n",
    "# and in regaular dict( ) it raise an error \n",
    "print(d.fromkeys(n))\n",
    "\n"
   ]
  },
  {
   "cell_type": "markdown",
   "id": "315739fe",
   "metadata": {},
   "source": [
    "# 4. deque\n",
    "it has features that as double ended queue \n"
   ]
  },
  {
   "cell_type": "code",
   "execution_count": 16,
   "id": "dd3b75f1",
   "metadata": {},
   "outputs": [
    {
     "name": "stdout",
     "output_type": "stream",
     "text": [
      "deque([2, 4, 5, 9])\n",
      "deque([4, 2, 4, 5, 9])\n",
      "deque([14, 24, 34, 4, 2, 4, 5, 9])\n",
      "deque([24, 34, 4, 2, 4, 5, 9])\n"
     ]
    }
   ],
   "source": [
    "from collections import deque\n",
    "d = deque()\n",
    "d.append(2)\n",
    "d.append(4)\n",
    "d.append(5)\n",
    "d.append(9)\n",
    "print(d)\n",
    "d.appendleft(4)\n",
    "print(d)\n",
    "d.extendleft([34,24,14])\n",
    "print(d)\n",
    "\n",
    "d.popleft()\n",
    "print(d)"
   ]
  },
  {
   "cell_type": "markdown",
   "id": "2551e46d",
   "metadata": {},
   "source": [
    "# last . order dict \n",
    "it is like regular dict with remembers the order but latest python dict( ) have this feature built in so no need to use this \n"
   ]
  },
  {
   "cell_type": "markdown",
   "id": "c844d9a8",
   "metadata": {},
   "source": [
    "\n"
   ]
  },
  {
   "cell_type": "code",
   "execution_count": null,
   "id": "799321fc",
   "metadata": {},
   "outputs": [],
   "source": []
  }
 ],
 "metadata": {
  "kernelspec": {
   "display_name": "Python 3",
   "language": "python",
   "name": "python3"
  },
  "language_info": {
   "codemirror_mode": {
    "name": "ipython",
    "version": 3
   },
   "file_extension": ".py",
   "mimetype": "text/x-python",
   "name": "python",
   "nbconvert_exporter": "python",
   "pygments_lexer": "ipython3",
   "version": "3.12.10"
  }
 },
 "nbformat": 4,
 "nbformat_minor": 5
}
