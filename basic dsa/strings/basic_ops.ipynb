{
 "cells": [
  {
   "cell_type": "code",
   "execution_count": null,
   "id": "39183de7",
   "metadata": {},
   "outputs": [
    {
     "data": {
      "text/plain": [
       "['1234',\n",
       " '43',\n",
       " '23435',\n",
       " '34352',\n",
       " '234',\n",
       " '4',\n",
       " '343',\n",
       " '1',\n",
       " '3435',\n",
       " '123',\n",
       " '23',\n",
       " '234352',\n",
       " '2',\n",
       " '34',\n",
       " '3',\n",
       " '352',\n",
       " '35',\n",
       " '123435',\n",
       " '5',\n",
       " '435',\n",
       " '4352',\n",
       " '1234352',\n",
       " '2343',\n",
       " '12343',\n",
       " '12',\n",
       " '52']"
      ]
     },
     "execution_count": 7,
     "metadata": {},
     "output_type": "execute_result"
    }
   ],
   "source": [
    "# print all the unique substring fom a string \n",
    "# For a string of length n, total substrings = n*(n+1)/2. and use set for unique ness\n",
    "s = '1234352' \n",
    "def allsubs(s):\n",
    "    n = len(s) \n",
    "    substrings = set()\n",
    "\n",
    "    # Generate all substrings\n",
    "    for i in range(n):\n",
    "        for j in range(i + 1, n + 1):\n",
    "            substrings.add(s[i:j])  # add substring from i to j-1\n",
    "\n",
    "    import math \n",
    "    def is_prime(n):\n",
    "        if n<2:\n",
    "            return False\n",
    "        return all(n%i for i in range(2, sqrt(int(n))+1))\n",
    "    lst =[]\n",
    "    for i in substrings: \n",
    "        if i is is_prime():\n",
    "            lst.append(i)\n",
    "            \n",
    "    \n",
    "    \n",
    "    \n",
    "    return list(substrings)\n",
    "\n",
    "\n",
    "\n",
    "\n",
    "\n"
   ]
  },
  {
   "cell_type": "code",
   "execution_count": null,
   "id": "ffddc0e4",
   "metadata": {},
   "outputs": [],
   "source": []
  }
 ],
 "metadata": {
  "kernelspec": {
   "display_name": "Python 3",
   "language": "python",
   "name": "python3"
  },
  "language_info": {
   "codemirror_mode": {
    "name": "ipython",
    "version": 3
   },
   "file_extension": ".py",
   "mimetype": "text/x-python",
   "name": "python",
   "nbconvert_exporter": "python",
   "pygments_lexer": "ipython3",
   "version": "3.12.10"
  }
 },
 "nbformat": 4,
 "nbformat_minor": 5
}
