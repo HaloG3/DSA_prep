{
 "cells": [
  {
   "cell_type": "code",
   "execution_count": null,
   "id": "39183de7",
   "metadata": {},
   "outputs": [],
   "source": [
    "# print all the unique substring fom a string \n",
    "'''\n",
    "s = input('Enter the string: ')\n",
    "def allsubs(s):\n",
    "    n = len(s)\n",
    "    substring = set()\n",
    "    # generate all substing \n",
    "    for i in range(n):\n",
    "        for j in range(i+1, n+1):\n",
    "            substring.add(s[i:j])\n",
    "    return list(substring)\n",
    "\n",
    "print(allsubs(s))'''\n",
    "\n",
    "# For a string of length n, total substrings = n*(n+1)/2. and use set for unique ness\n",
    "s = '1234352' \n",
    "def allsubs(s):\n",
    "    n = len(s) \n",
    "    substrings = set() #for all unique substrings\n",
    "\n",
    "    # Generate all substrings\n",
    "    for i in range(n):\n",
    "        for j in range(i + 1, n + 1):\n",
    "            substrings.add(s[i:j])  # add substring from i to j-1\n",
    "\n",
    "    import math \n",
    "    def is_prime(n):\n",
    "        if n<2:\n",
    "            return False\n",
    "        return all(n%i for i in range(2, math.sqrt(int(n))+1))\n",
    "    lst =[]\n",
    "    for i in substrings: \n",
    "        if i is is_prime():\n",
    "            lst.append(i)\n",
    "            \n",
    "    \n",
    "    \n",
    "    \n",
    "    return list(substrings)\n",
    "\n",
    "\n",
    "\n",
    "\n",
    "\n"
   ]
  },
  {
   "cell_type": "code",
   "execution_count": 9,
   "id": "eb64aa51",
   "metadata": {},
   "outputs": [
    {
     "data": {
      "text/plain": [
       "5"
      ]
     },
     "execution_count": 9,
     "metadata": {},
     "output_type": "execute_result"
    }
   ],
   "source": [
    "# conver the number to sum of digits \n",
    "def sum(num):\n",
    "\n",
    "    sum ,y = 0,num\n",
    "    while y:\n",
    "        sum +=y%10\n",
    "        y//=10\n",
    "    return (sum)\n",
    "sum(23)"
   ]
  },
  {
   "cell_type": "code",
   "execution_count": 15,
   "id": "ae315ff1",
   "metadata": {},
   "outputs": [
    {
     "name": "stdout",
     "output_type": "stream",
     "text": [
      "False\n"
     ]
    },
    {
     "data": {
      "text/plain": [
       "True"
      ]
     },
     "execution_count": 15,
     "metadata": {},
     "output_type": "execute_result"
    }
   ],
   "source": [
    "# check if the number is prime or not\n",
    "import math\n",
    "def is_prime(num):\n",
    "    if num<2:\n",
    "        return False\n",
    "    return all(num%i for i in range(2,int(math.sqrt(num))+1))\n",
    "\n",
    "print(is_prime(1221))\n",
    "is_prime(11)"
   ]
  },
  {
   "cell_type": "markdown",
   "id": "8c618c42",
   "metadata": {},
   "source": [
    "# string to list "
   ]
  },
  {
   "cell_type": "code",
   "execution_count": null,
   "id": "3d5d8a09",
   "metadata": {},
   "outputs": [
    {
     "name": "stdout",
     "output_type": "stream",
     "text": [
      "[1, 2, 3, 4, 3, 4, 5, 4, 5]\n"
     ]
    }
   ],
   "source": [
    "s = '123434545'\n",
    "lst = [int(s[i]) for i in range (len(s))]\n",
    "# if not in int then  run directly \n",
    "print(lst)"
   ]
  },
  {
   "cell_type": "markdown",
   "id": "0bead94b",
   "metadata": {},
   "source": [
    "# 1. reverse a string"
   ]
  },
  {
   "cell_type": "code",
   "execution_count": 10,
   "id": "35c67e4b",
   "metadata": {},
   "outputs": [
    {
     "name": "stdout",
     "output_type": "stream",
     "text": [
      "ij_iahb_tihom\n",
      "m*o*h*i*t*_*b*h*a*i*_*j*i\n"
     ]
    }
   ],
   "source": [
    "# convert the sting to list and then use reverse or directly using [::-1]\n",
    "# agin convert the list to sting by join() method\n",
    "s = 'mohit_bhai_ji'\n",
    "lst = [s[i] for i in range (len(s))]\n",
    "\n",
    "\n",
    "print(''.join(lst[::-1])) # it will reverse the string and then join \n",
    "# if we give something in join then it will add that between each charater \n",
    "print('*'.join(lst))"
   ]
  },
  {
   "cell_type": "code",
   "execution_count": 19,
   "id": "3867f464",
   "metadata": {},
   "outputs": [
    {
     "name": "stdout",
     "output_type": "stream",
     "text": [
      "6\n"
     ]
    },
    {
     "data": {
      "text/plain": [
       "False"
      ]
     },
     "execution_count": 19,
     "metadata": {},
     "output_type": "execute_result"
    }
   ],
   "source": [
    "n = len(lst)\n",
    "d = int(n/2)\n",
    "print(d)\n",
    "lst[d:] is lst[:d]"
   ]
  },
  {
   "cell_type": "markdown",
   "id": "194c7f18",
   "metadata": {},
   "source": [
    "# 2.check string is palindrome \n"
   ]
  },
  {
   "cell_type": "code",
   "execution_count": 92,
   "id": "b938014d",
   "metadata": {},
   "outputs": [],
   "source": [
    "import math\n",
    "s = '123454321'\n",
    "# convert to list and then find  list is equal to its reverse\n",
    "# or we can use 2 pointers one in start and 2nd at end and check if both have same value then return true else false \n",
    "s==s[::-1]\n",
    "\n",
    "\n",
    "# valid plaindrome lc 125\n",
    "import re\n",
    "class Solution(object):\n",
    "    def isPalindrome(self, s):\n",
    "        \n",
    "        s = s.lower()\n",
    "        s = re.sub(r'[^A-Za-z0-9]', '', s) # we use regular expression here \n",
    "        return s == s[::-1]"
   ]
  },
  {
   "cell_type": "markdown",
   "id": "df5377b9",
   "metadata": {},
   "source": [
    "# 214 lc\n",
    "You are given a string s. You can convert s to a palindrome by adding characters in front of it.\n",
    "\n",
    "Return the shortest palindrome you can find by performing this transformation.\n",
    "\n",
    "🔍 Approach:\n",
    "KMP Algorithm to the Rescue:\n",
    "We use the Knuth-Morris-Pratt (KMP) algorithm, which helps us find the longest prefix of the string that matches the suffix of its reverse. This is key to minimizing the characters we need to add.\n",
    "\n",
    "Reversing the String:\n",
    "First, reverse the string and concatenate it with the original using a special separator (#). The idea is to check the overlap between the string and its reverse.\n",
    "\n",
    "Prefix Array (Pi Array):\n",
    "The KMP algorithm constructs a prefix array (pi array) that tells us the length of the longest prefix in the original string that matches the start of the reversed string. This gives us the part of the original string that doesn't need extra characters.\n",
    "\n",
    "Final Step:\n",
    "Using the information from the pi array, we append the minimal necessary characters in front of the original string to make it a palindrome.\n",
    "\n",
    "⏳ Time and Space Complexity:\n",
    "Time Complexity: O(n)\n",
    "The KMP algorithm runs in linear time, where n is the length of the string. Both the construction of the pi array and the final string manipulation take linear time.\n",
    "\n",
    "Space Complexity: O(n)\n",
    "We use extra space for the pi array and the concatenated string, so the space complexity is also linear.\n",
    "\n"
   ]
  },
  {
   "cell_type": "code",
   "execution_count": null,
   "id": "a9fe97c2",
   "metadata": {},
   "outputs": [],
   "source": [
    "class Solution:\n",
    "    def shortestPalindrome(self, s: str) -> str:\n",
    "        count = self.kmp(s[::-1], s)\n",
    "        return s[count:][::-1] + s\n",
    "    def kmp(self, txt: str, patt: str) -> int:\n",
    "        new_string = patt + '#' + txt\n",
    "        pi = [0] * len(new_string)\n",
    "        i = 1\n",
    "        k = 0\n",
    "        while i < len(new_string):\n",
    "            if new_string[i] == new_string[k]:\n",
    "                k += 1\n",
    "                pi[i] = k\n",
    "                i += 1\n",
    "            else:\n",
    "                if k > 0:\n",
    "                    k = pi[k - 1]\n",
    "                else:\n",
    "                    pi[i] = 0\n",
    "                    i += 1\n",
    "        return pi[-1]"
   ]
  },
  {
   "cell_type": "markdown",
   "id": "17f3a652",
   "metadata": {},
   "source": [
    "# 3. fetch all vowels or consonent from string \n"
   ]
  },
  {
   "cell_type": "code",
   "execution_count": 94,
   "id": "ec5b3a27",
   "metadata": {},
   "outputs": [
    {
     "name": "stdout",
     "output_type": "stream",
     "text": [
      "['a', 'e', 'i']\n"
     ]
    }
   ],
   "source": [
    "s = 'absdeffi'\n",
    "vowels = 'aeiouAEIOU'\n",
    "vow = [char for char in s if char in vowels]\n",
    "\n",
    "\n",
    "print(vow)\n",
    "\n",
    "\n"
   ]
  },
  {
   "cell_type": "code",
   "execution_count": null,
   "id": "bdf0a495",
   "metadata": {},
   "outputs": [],
   "source": [
    "# Function to extract vowels from a sentence\n",
    "def extract_vowels(sentence):\n",
    "    vowels = \"aeiouAEIOU\"\n",
    "    # List comprehension to filter vowels\n",
    "    return [char for char in sentence if char in vowels]\n",
    "\n",
    "# Example usage\n",
    "if __name__ == \"__main__\":\n",
    "    sentence = input(\"Enter a sentence: \")\n",
    "    vowels_in_sentence = extract_vowels(sentence)\n",
    "    print(\"Vowels found:\", vowels_in_sentence)\n"
   ]
  },
  {
   "cell_type": "markdown",
   "id": "e379d7e0",
   "metadata": {},
   "source": [
    "# 4. sort the string accoding to alphabets"
   ]
  },
  {
   "cell_type": "code",
   "execution_count": null,
   "id": "8cf7207f",
   "metadata": {},
   "outputs": [
    {
     "name": "stdout",
     "output_type": "stream",
     "text": [
      "Sorted sentence: dehllloorw\n"
     ]
    }
   ],
   "source": [
    "# Function to sort characters in a sentence alphabetically\n",
    "def sort_sentence(sentence):\n",
    "    # Remove spaces and sort the characters\n",
    "    sorted_chars = sorted(sentence.replace(\" \", \"\"))\n",
    "    # Join characters back into a string\n",
    "    return ''.join(sorted_chars)\n",
    "\n",
    "\n",
    "# Example usage\n",
    "if __name__ == \"__main__\":\n",
    "    sentence = input(\"Enter a sentence: \")\n",
    "    sorted_sentence = sort_sentence(sentence)\n",
    "    print(\"Sorted sentence:\", sorted_sentence)\n"
   ]
  },
  {
   "cell_type": "markdown",
   "id": "d7fe2f55",
   "metadata": {},
   "source": [
    "# 5. sort characters in a string by frequecy\n"
   ]
  },
  {
   "cell_type": "code",
   "execution_count": null,
   "id": "16bd0ce3",
   "metadata": {},
   "outputs": [
    {
     "name": "stdout",
     "output_type": "stream",
     "text": [
      "Counter({'j': 4, 'v': 4, 'f': 3, 'k': 3, 'd': 2, 'l': 2, 'b': 1, 's': 1, 'c': 1, 'x': 1})\n"
     ]
    }
   ],
   "source": [
    "from collections import Counter as counter  # here we use counter speciality\n",
    "s = 'jvfdkjvbsvjjdfvflkclkx' \n",
    "mycounter = counter(s)\n",
    "print(mycounter) # it give us dict( ) inside a set() "
   ]
  },
  {
   "cell_type": "markdown",
   "id": "b5cf0e8e",
   "metadata": {},
   "source": [
    "# 6. reverse all word in a sentence \n"
   ]
  },
  {
   "cell_type": "code",
   "execution_count": 97,
   "id": "3605a58b",
   "metadata": {},
   "outputs": [
    {
     "name": "stdout",
     "output_type": "stream",
     "text": [
      "Sentence with reversed words: ollwh ak boj dkk\n"
     ]
    }
   ],
   "source": [
    "# Function to reverse each word in the sentence\n",
    "def reverse_words(sentence):\n",
    "    # Split the sentence into words\n",
    "    words = sentence.split()\n",
    "    # Reverse each word and store in a new list\n",
    "    reversed_words = [word[::-1] for word in words]\n",
    "    # Join the reversed words back into a sentence\n",
    "    return ' '.join(reversed_words)\n",
    "\n",
    "# Example usage\n",
    "if __name__ == \"__main__\":\n",
    "    sentence = input(\"Enter a sentence: \")\n",
    "    result = reverse_words(sentence)\n",
    "    print(\"Sentence with reversed words:\", result)\n"
   ]
  },
  {
   "cell_type": "markdown",
   "id": "24a82aa0",
   "metadata": {},
   "source": [
    "# 7. valid anagram or not \n"
   ]
  },
  {
   "cell_type": "markdown",
   "id": "12d9061b",
   "metadata": {},
   "source": [
    "# 9. merge 2 list  \n",
    "we can concatiname using the + \n",
    "# when lists are sorted  \n",
    "we can append or expend the list \n",
    "# when lists are not numbers list \n",
    "\n",
    "it worked for all list "
   ]
  },
  {
   "cell_type": "code",
   "execution_count": null,
   "id": "d94abcbb",
   "metadata": {},
   "outputs": [
    {
     "name": "stdout",
     "output_type": "stream",
     "text": [
      "[2121, 232, 3243, 545, 46, 5, 23, 43, 665, 88, 67]\n",
      "None\n"
     ]
    }
   ],
   "source": [
    "l1= [2121,232,3243,545,46,5]\n",
    "l2 = [23,43,665,88,67]\n",
    "print(l1+l2)\n",
    "\n",
    "\n"
   ]
  },
  {
   "cell_type": "markdown",
   "id": "70c80140",
   "metadata": {},
   "source": [
    "# 10.  number of substring containing 'x' letter "
   ]
  },
  {
   "cell_type": "code",
   "execution_count": null,
   "id": "5892f766",
   "metadata": {},
   "outputs": [],
   "source": [
    "# Function to print all substrings containing 'a'\n",
    "def substrings_with_a(sentence):\n",
    "    length = len(sentence)\n",
    "    result = []\n",
    "    for i in range(length):\n",
    "        for j in range(i + 1, length + 1):\n",
    "            substring = sentence[i:j]\n",
    "            if 'a' in substring:\n",
    "                result.append(substring)\n",
    "    return result\n",
    "\n",
    "# Example usage\n",
    "if __name__ == \"__main__\":\n",
    "    sentence = input(\"Enter a sentence: \")\n",
    "    substrings = substrings_with_a(sentence)\n",
    "    print(\"Substrings containing 'a':\")\n",
    "    print(substrings)\n"
   ]
  },
  {
   "cell_type": "markdown",
   "id": "5091add3",
   "metadata": {},
   "source": [
    "# 11. find the unique string from a list \n"
   ]
  },
  {
   "cell_type": "code",
   "execution_count": null,
   "id": "41182230",
   "metadata": {},
   "outputs": [],
   "source": [
    "# Function to filter strings with no vowels\n",
    "def strings_without_vowels(string_list):\n",
    "    vowels = \"aeiouAEIOU\"\n",
    "    return [s for s in string_list if not any(char in vowels for char in s)]\n",
    "\n",
    "# Example usage\n",
    "if __name__ == \"__main__\":\n",
    "    strings = input(\"Enter list of strings separated by commas: \").split(',')\n",
    "    no_vowel_strings = strings_without_vowels(strings)\n",
    "    print(\"Strings with no vowels:\")\n",
    "    print(no_vowel_strings)\n"
   ]
  },
  {
   "cell_type": "markdown",
   "id": "0ab8b24e",
   "metadata": {},
   "source": [
    "# 12.  concatinate all words in a sentence which has vowels "
   ]
  },
  {
   "cell_type": "code",
   "execution_count": null,
   "id": "7760b2d0",
   "metadata": {},
   "outputs": [],
   "source": [
    "# Function to concatenate strings without vowels\n",
    "def concatenate_no_vowel_strings(string_list):\n",
    "    no_vowel_strings = strings_without_vowels(string_list)\n",
    "    return ''.join(no_vowel_strings)\n",
    "\n",
    "# Example usage\n",
    "if __name__ == \"__main__\":\n",
    "    strings = input(\"Enter list of strings separated by commas: \").split(',')\n",
    "    concatenated_result = concatenate_no_vowel_strings(strings)\n",
    "    print(\"Concatenated string with no vowels:\")\n",
    "    print(concatenated_result)\n"
   ]
  },
  {
   "cell_type": "markdown",
   "id": "e7ac1001",
   "metadata": {},
   "source": [
    "# 13. count substring which has something  special [eg prime number, divisible by 5, etc]\n"
   ]
  },
  {
   "cell_type": "code",
   "execution_count": null,
   "id": "3479e6f0",
   "metadata": {},
   "outputs": [
    {
     "name": "stdout",
     "output_type": "stream",
     "text": [
      "w\n",
      "we\n",
      "wes\n",
      "wesf\n",
      "e\n",
      "es\n",
      "esf\n",
      "s\n",
      "sf\n",
      "f\n",
      "f Number of substrings meeting the special conditions: 6\n"
     ]
    }
   ],
   "source": [
    "import re\n",
    "\n",
    "# Helper function to check if a number is prime\n",
    "def is_prime(n):\n",
    "    if n <= 1:\n",
    "        return False\n",
    "    for i in range(2, int(n**0.5) + 1):\n",
    "        if n % i == 0:\n",
    "            return False\n",
    "    return True\n",
    "\n",
    "# Main function to count substrings meeting some special conditions\n",
    "def count_special_substrings(s):\n",
    "    length = len(s)\n",
    "    counter = 0\n",
    "    \n",
    "    for i in range(length):\n",
    "        for j in range(i + 1, length + 1):\n",
    "            substring = s[i:j]\n",
    "\n",
    "            # Condition 1: Contains a vowel\n",
    "            has_vowel = any(c.lower() in 'aeiou' for c in substring)\n",
    "\n",
    "            # Condition 2: Contains a number which is prime or even\n",
    "           # numbers = re.findall(r'\\d+', substring)  # Extract all number substrings\n",
    "           # has_prime = any(is_prime(int(num)) for num in numbers)\n",
    "           # has_even = any(int(num) % 2 == 0 for num in numbers)\n",
    "\n",
    "            # Condition 3: Ends with a digit multiple of 2\n",
    "            #ends_with_even_digit = substring[-1].isdigit() and int(substring[-1]) % 2 == 0'''\n",
    "\n",
    "            # If any of the special conditions are satisfied, increment the counter\n",
    "            print(substring)\n",
    "            if has_vowel: #or has_prime or has_even or ends_with_even_digit:   \n",
    "                counter += 1\n",
    "        print(substring, end=(' '))\n",
    "\n",
    "    return counter\n",
    "\n",
    "# Example usage\n",
    "if __name__ == \"__main__\":\n",
    "    string = input(\"Enter a string (can include letters and digits): \")\n",
    "    special_count = count_special_substrings(string)\n",
    "    print(f\"Number of substrings meeting the special conditions: {special_count}\")\n"
   ]
  },
  {
   "cell_type": "markdown",
   "id": "2c2ffb41",
   "metadata": {},
   "source": [
    "# 14 maximum distance between 2 subsrings of same digits (string : 2101019 and sub stirng eg 10 and 19 = 9)\n"
   ]
  },
  {
   "cell_type": "markdown",
   "id": "a4c5cfa4",
   "metadata": {},
   "source": [
    "# 15. group similar type of substrings "
   ]
  },
  {
   "cell_type": "markdown",
   "id": "9306b14a",
   "metadata": {},
   "source": [
    "# 16. Remove duplicate letter in string \n"
   ]
  },
  {
   "cell_type": "markdown",
   "id": "9edbb048",
   "metadata": {},
   "source": []
  }
 ],
 "metadata": {
  "kernelspec": {
   "display_name": "Python 3",
   "language": "python",
   "name": "python3"
  },
  "language_info": {
   "codemirror_mode": {
    "name": "ipython",
    "version": 3
   },
   "file_extension": ".py",
   "mimetype": "text/x-python",
   "name": "python",
   "nbconvert_exporter": "python",
   "pygments_lexer": "ipython3",
   "version": "3.12.6"
  }
 },
 "nbformat": 4,
 "nbformat_minor": 5
}
