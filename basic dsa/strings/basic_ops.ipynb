{
 "cells": [
  {
   "cell_type": "code",
   "execution_count": null,
   "id": "39183de7",
   "metadata": {},
   "outputs": [],
   "source": [
    "# print all the unique substring fom a string \n",
    "# For a string of length n, total substrings = n*(n+1)/2. and use set for unique ness\n",
    "s = '1234352' \n",
    "def allsubs(s):\n",
    "    n = len(s) \n",
    "    substrings = set()\n",
    "\n",
    "    # Generate all substrings\n",
    "    for i in range(n):\n",
    "        for j in range(i + 1, n + 1):\n",
    "            substrings.add(s[i:j])  # add substring from i to j-1\n",
    "\n",
    "    import math \n",
    "    def is_prime(n):\n",
    "        if n<2:\n",
    "            return False\n",
    "        return all(n%i for i in range(2, sqrt(int(n))+1))\n",
    "    lst =[]\n",
    "    for i in substrings: \n",
    "        if i is is_prime():\n",
    "            lst.append(i)\n",
    "            \n",
    "    \n",
    "    \n",
    "    \n",
    "    return list(substrings)\n",
    "\n",
    "\n",
    "\n",
    "\n",
    "\n"
   ]
  },
  {
   "cell_type": "code",
   "execution_count": 9,
   "id": "eb64aa51",
   "metadata": {},
   "outputs": [
    {
     "data": {
      "text/plain": [
       "5"
      ]
     },
     "execution_count": 9,
     "metadata": {},
     "output_type": "execute_result"
    }
   ],
   "source": [
    "# conver the number to sum of digits \n",
    "def sum(num):\n",
    "\n",
    "    sum ,y = 0,num\n",
    "    while y:\n",
    "        sum +=y%10\n",
    "        y//=10\n",
    "    return (sum)\n",
    "sum(23)"
   ]
  },
  {
   "cell_type": "code",
   "execution_count": 15,
   "id": "ae315ff1",
   "metadata": {},
   "outputs": [
    {
     "name": "stdout",
     "output_type": "stream",
     "text": [
      "False\n"
     ]
    },
    {
     "data": {
      "text/plain": [
       "True"
      ]
     },
     "execution_count": 15,
     "metadata": {},
     "output_type": "execute_result"
    }
   ],
   "source": [
    "# check if the number is prime or not\n",
    "import math\n",
    "def is_prime(num):\n",
    "    if num<2:\n",
    "        return False\n",
    "    return all(num%i for i in range(2,int(math.sqrt(num))+1))\n",
    "\n",
    "print(is_prime(1221))\n",
    "is_prime(11)"
   ]
  },
  {
   "cell_type": "code",
   "execution_count": null,
   "id": "ffddc0e4",
   "metadata": {},
   "outputs": [],
   "source": []
  }
 ],
 "metadata": {
  "kernelspec": {
   "display_name": "Python 3",
   "language": "python",
   "name": "python3"
  },
  "language_info": {
   "codemirror_mode": {
    "name": "ipython",
    "version": 3
   },
   "file_extension": ".py",
   "mimetype": "text/x-python",
   "name": "python",
   "nbconvert_exporter": "python",
   "pygments_lexer": "ipython3",
   "version": "3.12.10"
  }
 },
 "nbformat": 4,
 "nbformat_minor": 5
}
