{
 "cells": [
  {
   "cell_type": "markdown",
   "id": "b2eec813",
   "metadata": {},
   "source": [
    "# Boyer–Moore Majority Vote Algorithm.\n",
    " version is the **Boyer–Moore Majority Vote Algorithm**.\n",
    "It’s a completely different approach from your dictionary-based solution, but it solves the same problem using **O(1) space** and **O(n) time**.\n",
    "\n",
    "\n",
    "\n",
    "### **How it works**\n",
    "\n",
    "1. **`c = 0`**\n",
    "   This is a **balance counter**.\n",
    "\n",
    "   * Positive → more occurrences of candidate than non-candidate seen so far.\n",
    "   * Zero → candidate has been \"balanced out\" by other elements.\n",
    "\n",
    "2. **`can = None`**\n",
    "   This will store the **current candidate** for majority element.\n",
    "\n",
    "3. **Loop over each number (`i`) in `nums`**:\n",
    "\n",
    "   * **If `c == 0`**, that means we currently don’t have a strong candidate, so we set:\n",
    "\n",
    "     ```python\n",
    "     can = i\n",
    "     ```\n",
    "   * Then, **update `c`**:\n",
    "\n",
    "     ```python\n",
    "     c += 1 if can == i else -1\n",
    "     ```\n",
    "\n",
    "     * If the current number equals the candidate → increment counter.\n",
    "     * If it’s different → decrement counter.\n",
    "\n",
    "4. **Why this works**:\n",
    "\n",
    "   * The majority element appears more than `n/2` times.\n",
    "   * Even if we \"cancel out\" different numbers, the majority element will survive as the last `can` after the loop ends.\n",
    "\n",
    "---\n",
    "\n"
   ]
  },
  {
   "cell_type": "code",
   "execution_count": null,
   "id": "816797f6",
   "metadata": {},
   "outputs": [],
   "source": [
    "# for finding the heighest majority lemnt \n",
    "class Solution:\n",
    "    def majorityElement(self, nums: List[int]) -> int:\n",
    "        c = 0            # Step 1: counter for candidate element\n",
    "        can = None       # Step 2: current candidate for majority element\n",
    "\n",
    "        for i in nums:   # Step 3: loop through all numbers\n",
    "            if c == 0:        # Step 4: if counter is zero, choose new candidate\n",
    "                can = i\n",
    "            # Step 5: update counter based on whether current element == candidate\n",
    "            c += 1 if can == i else -1\n",
    "\n",
    "        return can       # Step 6: return candidate\n"
   ]
  },
  {
   "cell_type": "code",
   "execution_count": 12,
   "id": "c5a576a8",
   "metadata": {},
   "outputs": [
    {
     "name": "stdout",
     "output_type": "stream",
     "text": [
      "matrices 2\n",
      "rows 2 columns 1\n",
      "[[0], [1]]\n",
      "rows 1 columns 6\n",
      "[[0, 0, 0, 0, 0, 0]]\n"
     ]
    }
   ],
   "source": [
    "# cook your dish here\n",
    "N= int(input('enter the number of matrices: '))\n",
    "print('matrices' ,N)\n",
    "for i in range (N):\n",
    "    \n",
    "    n = int(input('enter the numnber of rows in the matices: '))\n",
    "    m = int(input('enter the numnber of columns in the matices: '))\n",
    "\n",
    "    print( 'rows', n, 'columns', m)\n",
    "    M = []\n",
    "    for i in range(n):\n",
    "        row = []\n",
    "        for j in range(m):\n",
    "            row.append(i)\n",
    "        M.append(row)\n",
    "    print(M)\n",
    "\n"
   ]
  },
  {
   "cell_type": "code",
   "execution_count": null,
   "id": "e8725546",
   "metadata": {},
   "outputs": [
    {
     "ename": "SyntaxError",
     "evalue": "invalid syntax (1271963895.py, line 1)",
     "output_type": "error",
     "traceback": [
      "  \u001b[36mCell\u001b[39m\u001b[36m \u001b[39m\u001b[32mIn[10]\u001b[39m\u001b[32m, line 1\u001b[39m\n\u001b[31m    \u001b[39m\u001b[31mm[][]= 2,3\u001b[39m\n      ^\n\u001b[31mSyntaxError\u001b[39m\u001b[31m:\u001b[39m invalid syntax\n"
     ]
    }
   ],
   "source": []
  },
  {
   "cell_type": "code",
   "execution_count": null,
   "id": "0b3da38a",
   "metadata": {},
   "outputs": [],
   "source": []
  }
 ],
 "metadata": {
  "kernelspec": {
   "display_name": "Python 3",
   "language": "python",
   "name": "python3"
  },
  "language_info": {
   "codemirror_mode": {
    "name": "ipython",
    "version": 3
   },
   "file_extension": ".py",
   "mimetype": "text/x-python",
   "name": "python",
   "nbconvert_exporter": "python",
   "pygments_lexer": "ipython3",
   "version": "3.12.10"
  }
 },
 "nbformat": 4,
 "nbformat_minor": 5
}
