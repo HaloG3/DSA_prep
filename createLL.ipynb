{
 "cells": [
  {
   "cell_type": "markdown",
   "id": "55b99c4b",
   "metadata": {},
   "source": [
    "### creating the node od the Linked list\n"
   ]
  },
  {
   "cell_type": "code",
   "execution_count": null,
   "id": "f1dd50eb",
   "metadata": {},
   "outputs": [
    {
     "name": "stdout",
     "output_type": "stream",
     "text": [
      "1586670990784 \n",
      " 1586670991360 \n",
      " 1586670992944 \n",
      "\n",
      "<__main__.Node object at 0x000001716CF5F5C0>\n",
      "1586652833968\n",
      "2\n",
      "3\n"
     ]
    }
   ],
   "source": [
    "class Node:\n",
    "    def __init__ (self,value):\n",
    "        self.data = value\n",
    "        self.next = next\n",
    "\n",
    "first = Node(1)\n",
    "second = Node(2)\n",
    "third = Node(3)\n",
    "\n",
    "print(id(first),'\\n' , id(second), '\\n', id(third),'\\n')\n",
    "\n",
    "# now link thees independent nodes so it make s a LL\n",
    "first.next = second\n",
    "second.next = third \n",
    "\n",
    "head = first\n",
    "print(head)\n",
    "print(id(0x000002072FF586E0))\n",
    "print(first.next.data)   # head = first so \n",
    "print(head.next.next.data)\n",
    "# for deliting first and all the refrences  are deleted but data remains\n",
    "#del(first) \n"
   ]
  },
  {
   "cell_type": "markdown",
   "id": "3e5fea57",
   "metadata": {},
   "source": [
    "### Print the linked list\n"
   ]
  },
  {
   "cell_type": "code",
   "execution_count": 1,
   "id": "a252b177",
   "metadata": {},
   "outputs": [],
   "source": [
    "## if we want to get to the any other head than first then do \n",
    "# head = head.next \n",
    "# print(head.data)\n",
    "# we cann't use .data .next on the None  because it makes no sense and throw an error\\  11#here this block is finifhed"
   ]
  },
  {
   "cell_type": "code",
   "execution_count": 20,
   "id": "f8e07dbb",
   "metadata": {},
   "outputs": [
    {
     "name": "stdout",
     "output_type": "stream",
     "text": [
      "1\n",
      "2\n",
      "3\n"
     ]
    }
   ],
   "source": [
    "class Node:\n",
    "    def __init__ (self, value):\n",
    "        self.data = value\n",
    "        self.next = None\n",
    "# we cant go back to previous node so keep in mind\n",
    "# dont loose data \n",
    "# so use temp varaible to get the data safe\n",
    "def print_LL(head):\n",
    "    temp = head\n",
    "    while(temp!= None):\n",
    "        print(temp.data)\n",
    "        temp = temp.next\n",
    "\n",
    "   \n",
    "\n",
    "first, second,third = Node(1), Node(2), Node(3)\n",
    " \n",
    "\n",
    "first.next = second\n",
    "second.next = third\n",
    "head = first \n",
    "print_LL(head)\n",
    "\n",
    "## avoid accessing any property on None\n",
    "\n"
   ]
  },
  {
   "cell_type": "markdown",
   "id": "74798935",
   "metadata": {},
   "source": [
    "While linked lists provide certain benefits over regular lists and arrays, such as dynamic size and memory efficiency, they also have their limitations. Since pointers for each element must be stored to reference the next node, the memory usage per element is higher when using linked lists. Also, this data structure does not allow direct access to data. Accessing an element requires sequential traversal from the beginning of the list, resulting in O(n) search time complexity."
   ]
  },
  {
   "cell_type": "markdown",
   "id": "09d06c60",
   "metadata": {},
   "source": [
    "### Singly linked list\n"
   ]
  },
  {
   "cell_type": "code",
   "execution_count": 1,
   "id": "21a9ba3b",
   "metadata": {},
   "outputs": [],
   "source": [
    "class Singlell:\n",
    "    def __init__(self, val , next = None):\n",
    "        self.val = val\n",
    "        self.next = next \n",
    "    # for printing the linked list \n",
    "    def __str__(self):\n",
    "        return str(self.val )"
   ]
  },
  {
   "cell_type": "markdown",
   "id": "71f2aeeb",
   "metadata": {},
   "source": []
  },
  {
   "cell_type": "code",
   "execution_count": 5,
   "id": "9d6c8239",
   "metadata": {},
   "outputs": [],
   "source": [
    "head =Singlell(1)\n",
    "A= Singlell(2)\n",
    "B= Singlell(5)\n",
    "C= Singlell(7)\n",
    "\n",
    "D= Singlell(9)\n",
    "\n",
    "\n",
    "# now link thees independent nodes so it make s a LL\n",
    "head.next = A\n",
    "A.next = B\n",
    "B.next = C \n",
    "C.next = D\n",
    "D.next = None  # or we can leave it as it is \n"
   ]
  },
  {
   "cell_type": "code",
   "execution_count": null,
   "id": "08ee0496",
   "metadata": {},
   "outputs": [
    {
     "name": "stdout",
     "output_type": "stream",
     "text": [
      "1\n"
     ]
    }
   ],
   "source": [
    "print(head) "
   ]
  },
  {
   "cell_type": "markdown",
   "id": "f8c01876",
   "metadata": {},
   "source": [
    "### traversal of linked list = O(n) time "
   ]
  },
  {
   "cell_type": "code",
   "execution_count": 7,
   "id": "adecc37e",
   "metadata": {},
   "outputs": [
    {
     "name": "stdout",
     "output_type": "stream",
     "text": [
      "1\n",
      "2\n",
      "5\n",
      "7\n",
      "9\n"
     ]
    }
   ],
   "source": [
    "# for printinng the whole linked list we use while loop \n",
    "curr = head \n",
    "while curr:\n",
    "    print(curr)\n",
    "    curr = curr.next # it will print until the curr = None "
   ]
  },
  {
   "cell_type": "code",
   "execution_count": 11,
   "id": "7695e780",
   "metadata": {},
   "outputs": [
    {
     "name": "stdout",
     "output_type": "stream",
     "text": [
      "1 -> 2 -> 5 -> 7 -> 9\n"
     ]
    }
   ],
   "source": [
    "#Display the linked list = O(n) time \n",
    "def Display(head):\n",
    "    curr = head \n",
    "    elements = [] # initialize a list \n",
    "    while curr:\n",
    "        elements.append(str(curr.val))  # conver the curr.value to str and then append in the elments list \n",
    "        curr = curr.next\n",
    "    print(' -> '.join(elements)) # for printing the L:L in good way \n",
    "Display (head)"
   ]
  },
  {
   "cell_type": "code",
   "execution_count": null,
   "id": "42e469c4",
   "metadata": {},
   "outputs": [
    {
     "data": {
      "text/plain": [
       "False"
      ]
     },
     "execution_count": 13,
     "metadata": {},
     "output_type": "execute_result"
    }
   ],
   "source": [
    "# search for a node in LL\n",
    "def search(head , target):\n",
    "    curr =head \n",
    "    while curr:\n",
    "        if target ==curr.val:\n",
    "            return True\n",
    "        curr = curr.next \n",
    "    return False \n",
    "search(head, 9)\n",
    "    \n"
   ]
  },
  {
   "cell_type": "markdown",
   "id": "28d723cb",
   "metadata": {},
   "source": [
    "# doubly LL means :\n",
    "###  it has refrence on both sides , a node can points to both side \n"
   ]
  },
  {
   "cell_type": "code",
   "execution_count": 14,
   "id": "d95bf399",
   "metadata": {},
   "outputs": [],
   "source": [
    "class DoubleLL:\n",
    "    def __init__(self, val, next = None, prev = None):\n",
    "        self.val = val\n",
    "        self.prev = prev\n",
    "        self.next = next \n",
    "        #for printing th value we need to conver it to string\n",
    "\n",
    "    \n",
    "    def __str__(self):\n",
    "        return str(self.val)\n"
   ]
  },
  {
   "cell_type": "code",
   "execution_count": 24,
   "id": "d98b8ef3",
   "metadata": {},
   "outputs": [
    {
     "name": "stdout",
     "output_type": "stream",
     "text": [
      "1\n",
      "1\n"
     ]
    }
   ],
   "source": [
    "head = tail = DoubleLL(1)\n",
    "print(head)\n",
    "print(tail)"
   ]
  },
  {
   "cell_type": "code",
   "execution_count": 29,
   "id": "99f5574d",
   "metadata": {},
   "outputs": [
    {
     "data": {
      "text/plain": [
       "<function __main__.DisplayDLL(head)>"
      ]
     },
     "execution_count": 29,
     "metadata": {},
     "output_type": "execute_result"
    }
   ],
   "source": [
    "def DisplayDLL(head):\n",
    "    curr = head \n",
    "    elements = []\n",
    "    while curr:\n",
    "        elements.append(str(curr.val))\n",
    "        curr = curr.next \n",
    "        # curr = cur.prev\n",
    "    print(' <-> '.join(elements))\n",
    "DisplayDLL\n",
    "\n",
    "# we only have one node so "
   ]
  },
  {
   "cell_type": "code",
   "execution_count": 30,
   "id": "d71ac556",
   "metadata": {},
   "outputs": [
    {
     "name": "stdout",
     "output_type": "stream",
     "text": [
      "3 <-> 3 <-> 1 <-> 9 <-> 9\n"
     ]
    }
   ],
   "source": [
    "# Insert at the beginig = O(1)\n",
    "# this func is tricky so remember it \n",
    "def insert_at_begg( head,tail,val):\n",
    "    new_node = DoubleLL(val, next = head) # we makin gnew node and it should be points toward head so the old head is tail now, but it is DLL\n",
    "    head.prev = new_node # we tell need to choose one head and one tails \n",
    "    return new_node, tail\n",
    "\n",
    "head, tail = insert_at_begg(head, tail, 3)\n",
    "DisplayDLL(head)"
   ]
  },
  {
   "cell_type": "code",
   "execution_count": 31,
   "id": "62a20106",
   "metadata": {},
   "outputs": [
    {
     "name": "stdout",
     "output_type": "stream",
     "text": [
      "3 <-> 3 <-> 1 <-> 9 <-> 9 <-> 9\n"
     ]
    }
   ],
   "source": [
    "# Insert at the end  = O(1) [since it is DLL so head = tail ]\n",
    "# this func is tricky so remember it \n",
    "def insert_at_end( head,tail,val): # old tail points to the new node\n",
    "    new_node = DoubleLL(val, prev = tail) # we makin gnew node and it should be points toward head so the old head is tail now, but it is DLL\n",
    "    tail.next = new_node # we tell need to choose one head and one tails \n",
    "    return  head,new_node # here we need to return the head or tail before the new node\n",
    "\n",
    "head, tail = insert_at_end(head, tail, 9)\n",
    "DisplayDLL(head)"
   ]
  },
  {
   "cell_type": "markdown",
   "id": "02d2d2d1",
   "metadata": {},
   "source": []
  },
  {
   "cell_type": "markdown",
   "id": "ec162f11",
   "metadata": {},
   "source": [
    "“Python lists are dynamic arrays, not linked lists. They can be used to simulate linked lists for small data, but they don’t provide O(1) insertion/deletion in the middle. For linked list behavior, we use collections.deque or a custom class.”\n",
    "\n",
    "## ❌ When you cannot (or shouldn’t) use Python lists:\n",
    "\n",
    "- If you need frequent insertions/deletions in the middle or beginning of the sequence.\n",
    "\n",
    "- In list, this is O(N) because shifting happens.\n",
    "\n",
    "- In a true linked list, it would be O(1).\n",
    "\n",
    "- If your program logic depends on node references (like splitting, merging lists efficiently).\n",
    "\n",
    "- If you want to store very large data streams and avoid contiguous memory allocation.\n",
    "\n",
    "- No, Python lists are not a true replacement for linked lists, because lists are dynamic arrays, not pointer-based structures.\n",
    "\n",
    "- If you really need linked list behavior → use collections.deque or implement your own Node-based linked list."
   ]
  },
  {
   "cell_type": "code",
   "execution_count": null,
   "id": "78274dec",
   "metadata": {},
   "outputs": [
    {
     "name": "stdout",
     "output_type": "stream",
     "text": [
      "rotated list:  [5, 0, 8, 5, 3, 4]\n"
     ]
    }
   ],
   "source": [
    "# rotation of a list \n",
    "num = [3,4,5,0,8,5]\n",
    "def rotate(num, n):\n",
    "    return num[n:] + num[:n]\n",
    "res = rotate (num, 2)\n",
    "\n",
    "print('rotated list: ', res)\n",
    "   "
   ]
  },
  {
   "attachments": {
    "image.png": {
     "image/png": "[encoded data removed]"
    }
   },
   "cell_type": "markdown",
   "id": "d5ec67f7",
   "metadata": {},
   "source": [
    "# rotation of a linked list \n",
    "![image.png](attachment:image.png)\n",
    "- lt 60\n",
    "let’s take an example. \n",
    "\n",
    "head = [1,2,3,4,5] k = 2000000000\n",
    "\n",
    "- If we see a brute force approach, it will take O(5*2000000000) which is not a good time complexity when we can optimize it.\n",
    "\n",
    "- We can see that for every k which is multiple of the length of the list, we get back the original list. Try to operate brute force on any linked list for k as a multiple of the length of the list.\n",
    "\n",
    "- This gives us a hint that for k greater than the length of the list, we have to rotate the list for k%length of the list. This reduces our time complexity.\n",
    "\n",
    "#### Steps to the algorithm:-\n",
    "\n",
    "- Calculate the length of the list.\n",
    "- Connect the last node to the first node, converting it to a circular linked list.\n",
    "Iterate to cut the link of the last node and start a node of k%length of the list rotated list.\n",
    "\n",
    "### Time Complexity: \n",
    "- O(length of list) + O(length of list - (length of list%k))\n",
    "\n",
    "Reason: O(length of the list) for calculating the length of the list. O(length of the list - (length of list%k)) for breaking link."
   ]
  },
  {
   "cell_type": "code",
   "execution_count": null,
   "id": "077bf3b7",
   "metadata": {},
   "outputs": [
    {
     "name": "stdout",
     "output_type": "stream",
     "text": [
      "Original list: 1->2->3->4->5\n",
      "After 2 iterations: 4->5->1->2->3\n"
     ]
    },
    {
     "ename": "NameError",
     "evalue": "name 'Optional' is not defined",
     "output_type": "error",
     "traceback": [
      "\u001b[31m---------------------------------------------------------------------------\u001b[39m",
      "\u001b[31mNameError\u001b[39m                                 Traceback (most recent call last)",
      "\u001b[36mCell\u001b[39m\u001b[36m \u001b[39m\u001b[32mIn[3]\u001b[39m\u001b[32m, line 86\u001b[39m\n\u001b[32m     82\u001b[39m     printList(newHead)  \u001b[38;5;66;03m# list after rotating nodes\u001b[39;00m\n\u001b[32m     85\u001b[39m \u001b[38;5;66;03m# or\u001b[39;00m\n\u001b[32m---> \u001b[39m\u001b[32m86\u001b[39m \u001b[38;5;28;43;01mclass\u001b[39;49;00m\u001b[38;5;250;43m \u001b[39;49m\u001b[34;43;01mSolution\u001b[39;49;00m\u001b[43m:\u001b[49m\n\u001b[32m     87\u001b[39m \u001b[43m    \u001b[49m\u001b[38;5;28;43;01mdef\u001b[39;49;00m\u001b[38;5;250;43m \u001b[39;49m\u001b[34;43mrotateRight\u001b[39;49m\u001b[43m(\u001b[49m\u001b[38;5;28;43mself\u001b[39;49m\u001b[43m,\u001b[49m\u001b[43m \u001b[49m\u001b[43mhead\u001b[49m\u001b[43m:\u001b[49m\u001b[43m \u001b[49m\u001b[43mOptional\u001b[49m\u001b[43m[\u001b[49m\u001b[43mListNode\u001b[49m\u001b[43m]\u001b[49m\u001b[43m,\u001b[49m\u001b[43m \u001b[49m\u001b[43mk\u001b[49m\u001b[43m:\u001b[49m\u001b[43m \u001b[49m\u001b[38;5;28;43mint\u001b[39;49m\u001b[43m)\u001b[49m\u001b[43m \u001b[49m\u001b[43m-\u001b[49m\u001b[43m>\u001b[49m\u001b[43m \u001b[49m\u001b[43mOptional\u001b[49m\u001b[43m[\u001b[49m\u001b[43mListNode\u001b[49m\u001b[43m]\u001b[49m\u001b[43m:\u001b[49m\n\u001b[32m     88\u001b[39m \u001b[43m        \u001b[49m\u001b[38;5;28;43;01mif\u001b[39;49;00m\u001b[43m \u001b[49m\u001b[43mhead\u001b[49m\u001b[43m \u001b[49m\u001b[38;5;129;43;01mis\u001b[39;49;00m\u001b[43m \u001b[49m\u001b[38;5;28;43;01mNone\u001b[39;49;00m\u001b[43m \u001b[49m\u001b[38;5;129;43;01mor\u001b[39;49;00m\u001b[43m \u001b[49m\u001b[43mhead\u001b[49m\u001b[43m.\u001b[49m\u001b[43mnext\u001b[49m\u001b[43m \u001b[49m\u001b[38;5;129;43;01mis\u001b[39;49;00m\u001b[43m \u001b[49m\u001b[38;5;28;43;01mNone\u001b[39;49;00m\u001b[43m:\u001b[49m\n",
      "\u001b[36mCell\u001b[39m\u001b[36m \u001b[39m\u001b[32mIn[3]\u001b[39m\u001b[32m, line 87\u001b[39m, in \u001b[36mSolution\u001b[39m\u001b[34m()\u001b[39m\n\u001b[32m     86\u001b[39m \u001b[38;5;28;01mclass\u001b[39;00m\u001b[38;5;250m \u001b[39m\u001b[34;01mSolution\u001b[39;00m:\n\u001b[32m---> \u001b[39m\u001b[32m87\u001b[39m     \u001b[38;5;28;01mdef\u001b[39;00m\u001b[38;5;250m \u001b[39m\u001b[34mrotateRight\u001b[39m(\u001b[38;5;28mself\u001b[39m, head: \u001b[43mOptional\u001b[49m[ListNode], k: \u001b[38;5;28mint\u001b[39m) -> Optional[ListNode]:\n\u001b[32m     88\u001b[39m         \u001b[38;5;28;01mif\u001b[39;00m head \u001b[38;5;129;01mis\u001b[39;00m \u001b[38;5;28;01mNone\u001b[39;00m \u001b[38;5;129;01mor\u001b[39;00m head.next \u001b[38;5;129;01mis\u001b[39;00m \u001b[38;5;28;01mNone\u001b[39;00m:\n\u001b[32m     89\u001b[39m             \u001b[38;5;28;01mreturn\u001b[39;00m head\n",
      "\u001b[31mNameError\u001b[39m: name 'Optional' is not defined"
     ]
    }
   ],
   "source": [
    "class Node:\n",
    "    def __init__(self, val):\n",
    "        self.val = val\n",
    "        self.next = None\n",
    "\n",
    "\n",
    "\n",
    "\n",
    "# utility function to insert node at the end of the linked list\n",
    "def insertNode(head, val):\n",
    "    newNode = Node(val)\n",
    "    if head == None:\n",
    "        head = newNode\n",
    "        return head\n",
    "    temp = head\n",
    "    while temp.next != None:\n",
    "        temp = temp.next\n",
    "    temp.next = newNode\n",
    "    return head\n",
    "\n",
    "\n",
    "\n",
    "\n",
    "# utility function to rotate list by k times\n",
    "def rotateRight(head, k):\n",
    "    if head == None or head.next == None or k == 0:\n",
    "        return head\n",
    "    # calculating length\n",
    "    temp = head\n",
    "    length = 1\n",
    "    while temp.next != None:\n",
    "        length += 1\n",
    "        temp = temp.next\n",
    "    # link last node to first node\n",
    "    temp.next = head\n",
    "    k = k % length  # when k is more than length of list\n",
    "    end = length - k  # to get end of the list\n",
    "    while end:\n",
    "        temp = temp.next\n",
    "        end -= 1\n",
    "    # breaking last node link and pointing to NULL\n",
    "    head = temp.next\n",
    "    temp.next = None\n",
    "\n",
    "\n",
    "    return head\n",
    "\n",
    "\n",
    "\n",
    "\n",
    "# utility function to print list\n",
    "def printList(head):\n",
    "    while head.next != None:\n",
    "        print(head.val, end='->')\n",
    "        head = head.next\n",
    "    print(head.val)\n",
    "    return\n",
    "\n",
    "\n",
    "\n",
    "\n",
    "if __name__ == '__main__':\n",
    "    head = None\n",
    "    # inserting Node\n",
    "    head = insertNode(head, 1)\n",
    "    head = insertNode(head, 2)\n",
    "    head = insertNode(head, 3)\n",
    "    head = insertNode(head, 4)\n",
    "    head = insertNode(head, 5)\n",
    "\n",
    "\n",
    "    print(\"Original list: \", end='')\n",
    "    printList(head)\n",
    "\n",
    "\n",
    "    k = 2\n",
    "    # calling function for rotating right of the nodes by k times\n",
    "    newHead = rotateRight(head, k)\n",
    "\n",
    "\n",
    "    print(\"After\", k, \"iterations: \", end='')\n",
    "    printList(newHead)  # list after rotating nodes\n",
    "\n",
    "\n"
   ]
  },
  {
   "cell_type": "markdown",
   "id": "50f1c8c6",
   "metadata": {},
   "source": [
    "Solution 1: Fast and Slow Pointers + Link List Concatenation\n",
    "\n",
    "First, we check whether the number of nodes in the linked list is less than 2. If so, we\n",
    "directly return head.\n",
    "\n",
    "Otherwise, we first count the number of nodes n in the linked list, and then take the\n",
    "modulus of k by n to get the effective value of k.\n",
    "\n",
    "If the effective value of k is 0, it means that the linked list does not need to be rotated,\n",
    "and we can directly return head.\n",
    "\n",
    "Otherwise, we use fast and slow pointers, let the fast pointer move k steps first, and\n",
    "then let the fast and slow pointers move together until the fast pointer moves to the\n",
    "end of the linked list. At this time, the next node of the slow pointer is the new head\n",
    "node of the linked list.\n",
    "\n",
    "Finally, we concatenate the linked list.\n",
    "\n",
    "The time complexity is O(n), where n is the number of nodes in the linked list. The\n",
    "space complexity is O(1)."
   ]
  },
  {
   "cell_type": "code",
   "execution_count": null,
   "id": "0da7a58a",
   "metadata": {},
   "outputs": [],
   "source": [
    "# or\n",
    "class Solution:\n",
    "    def rotateRight(self, head: Optional[ListNode], k: int) -> Optional[ListNode]:\n",
    "        if head is None or head.next is None:\n",
    "            return head\n",
    "        cur, n = head, 0\n",
    "        while cur:\n",
    "            n += 1\n",
    "            cur = cur.next\n",
    "        k %= n\n",
    "        if k == 0:\n",
    "            return head\n",
    "        fast = slow = head\n",
    "        for _ in range(k):\n",
    "            fast = fast.next\n",
    "        while fast.next:\n",
    "            fast, slow = fast.next, slow.next\n",
    "\n",
    "        ans = slow.next\n",
    "        slow.next = None\n",
    "        fast.next = head\n",
    "        return ans"
   ]
  }
 ],
 "metadata": {
  "kernelspec": {
   "display_name": "Python 3",
   "language": "python",
   "name": "python3"
  },
  "language_info": {
   "codemirror_mode": {
    "name": "ipython",
    "version": 3
   },
   "file_extension": ".py",
   "mimetype": "text/x-python",
   "name": "python",
   "nbconvert_exporter": "python",
   "pygments_lexer": "ipython3",
   "version": "3.12.10"
  }
 },
 "nbformat": 4,
 "nbformat_minor": 5
}
