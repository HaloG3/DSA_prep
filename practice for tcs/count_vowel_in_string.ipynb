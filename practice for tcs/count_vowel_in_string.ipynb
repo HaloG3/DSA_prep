{
 "cells": [
  {
   "cell_type": "code",
   "execution_count": 10,
   "id": "aedbd721",
   "metadata": {},
   "outputs": [
    {
     "name": "stdout",
     "output_type": "stream",
     "text": [
      "Total number of vowels in the list: ([('pinki', 2), ('sweetie', 4), ('raushan', 3), ('heeloo', 4), ('zmkr', 0)], 13)\n"
     ]
    }
   ],
   "source": [
    "string_list = ['pinki', 'sweetie', 'raushan','heeloo','zmkr']\n",
    "def count_vowels_in_string(s):\n",
    "    vowels = \"aeiouAEIOU\"\n",
    "    return sum(1 for char in s if char in vowels)\n",
    "\n",
    "\n",
    "# Print total vowels in the list\n",
    "print(\"Total number of vowels in the list:\",total )\n",
    "\n",
    "   \n",
    "         \n",
    "    \n",
    "\n",
    "\n",
    "    \n",
    "   "
   ]
  },
  {
   "cell_type": "code",
   "execution_count": 1,
   "id": "8dede618",
   "metadata": {},
   "outputs": [
    {
     "data": {
      "text/plain": [
       "1"
      ]
     },
     "execution_count": 1,
     "metadata": {},
     "output_type": "execute_result"
    }
   ],
   "source": [
    "15%2\n"
   ]
  },
  {
   "cell_type": "code",
   "execution_count": 3,
   "id": "c40e58d8",
   "metadata": {},
   "outputs": [
    {
     "name": "stdout",
     "output_type": "stream",
     "text": [
      "22\n"
     ]
    }
   ],
   "source": [
    "lst = [22 ,44,6+49,77,33]\n",
    "print(min(lst))"
   ]
  },
  {
   "cell_type": "code",
   "execution_count": null,
   "id": "bbb958e9",
   "metadata": {},
   "outputs": [],
   "source": []
  }
 ],
 "metadata": {
  "kernelspec": {
   "display_name": "Python 3",
   "language": "python",
   "name": "python3"
  },
  "language_info": {
   "codemirror_mode": {
    "name": "ipython",
    "version": 3
   },
   "file_extension": ".py",
   "mimetype": "text/x-python",
   "name": "python",
   "nbconvert_exporter": "python",
   "pygments_lexer": "ipython3",
   "version": "3.12.10"
  }
 },
 "nbformat": 4,
 "nbformat_minor": 5
}
