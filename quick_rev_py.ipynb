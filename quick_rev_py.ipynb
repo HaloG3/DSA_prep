{
 "cells": [
  {
   "cell_type": "markdown",
   "id": "82f6c6cd",
   "metadata": {},
   "source": [
    "# python quick shot\n",
    " - divion in python \n"
   ]
  },
  {
   "cell_type": "markdown",
   "id": "a5200c14",
   "metadata": {},
   "source": [
    "if we want only integer then  we use \n"
   ]
  },
  {
   "cell_type": "code",
   "execution_count": 1,
   "id": "e3d6a040",
   "metadata": {},
   "outputs": [
    {
     "name": "stdout",
     "output_type": "stream",
     "text": [
      "1\n"
     ]
    }
   ],
   "source": [
    "print(5//3)"
   ]
  },
  {
   "cell_type": "code",
   "execution_count": 2,
   "id": "42609457",
   "metadata": {},
   "outputs": [
    {
     "name": "stdout",
     "output_type": "stream",
     "text": [
      "-14.333333333333334\n"
     ]
    }
   ],
   "source": [
    "# for -ve numbers it works like \n",
    "print(-43/3)"
   ]
  },
  {
   "cell_type": "code",
   "execution_count": null,
   "id": "b5a869cf",
   "metadata": {},
   "outputs": [
    {
     "name": "stdout",
     "output_type": "stream",
     "text": [
      "-15\n",
      "-14\n"
     ]
    }
   ],
   "source": [
    "# but if we want  single complete quotient = but it round towrd lower(more smsller) value \n",
    "print(-43//3\n",
    "      )\n",
    "# if we want to print the rounding toward lower or floor value then\n",
    "print(int(-43/3))"
   ]
  },
  {
   "cell_type": "code",
   "execution_count": null,
   "id": "ce376ded",
   "metadata": {},
   "outputs": [
    {
     "name": "stdout",
     "output_type": "stream",
     "text": [
      "3\n",
      "3\n",
      "1\n",
      "-1.0\n"
     ]
    }
   ],
   "source": [
    "# we mod -ve values it gives positive answer \n",
    "print(-13%4) #it gives wrong value because of it includes 0 and -13 \n",
    "print(13//4)\n",
    "print(13%4) #in this case it dont include he 0\n",
    "\n",
    "# but if we want the negative value then we need to import the ,math functions \n",
    "import math \n",
    "print(math.fmod(-13,4)) # give the -ve value and the number we want to devide "
   ]
  },
  {
   "cell_type": "code",
   "execution_count": 9,
   "id": "19c76e31",
   "metadata": {},
   "outputs": [
    {
     "name": "stdout",
     "output_type": "stream",
     "text": [
      "1\n",
      "2\n",
      "2.23606797749979\n",
      "8.0\n"
     ]
    }
   ],
   "source": [
    "# more math helper functions\n",
    "print(math.floor(3/2))\n",
    "print(math.ceil(3/2))\n",
    "print(math.sqrt(5))\n",
    "print(math.pow(2,3)) # 3 power of 2  or 2**3\n",
    "\n"
   ]
  },
  {
   "cell_type": "code",
   "execution_count": 13,
   "id": "c69e8c48",
   "metadata": {},
   "outputs": [
    {
     "name": "stdout",
     "output_type": "stream",
     "text": [
      "1.6069380442589903e+60\n",
      "True\n"
     ]
    }
   ],
   "source": [
    "# if  we need maximum integer then we can use \n",
    "float('inf') # means +infinity\n",
    "float('-inf') # means -ve infinity\n",
    "# Actually in python numbers are infinite so they never overflow \n",
    "import math\n",
    "print(math.pow(2,200)) # its very large but stilll it is less thatn infinity \n",
    "\n",
    "print(math.pow(2,300)< float('inf'))"
   ]
  },
  {
   "cell_type": "code",
   "execution_count": 14,
   "id": "8b65e886",
   "metadata": {},
   "outputs": [
    {
     "name": "stdout",
     "output_type": "stream",
     "text": [
      "[1, 2, 3, 4, 5, 6, 7, 4, 3, 3]\n"
     ]
    }
   ],
   "source": [
    "# arrays are the list in pyhtn and these are dynamic array \n",
    "array = [1,2,3,4,5,6,7,4,3,3]\n",
    "print(array)"
   ]
  },
  {
   "cell_type": "code",
   "execution_count": 15,
   "id": "52b84ca3",
   "metadata": {},
   "outputs": [
    {
     "name": "stdout",
     "output_type": "stream",
     "text": [
      "[1, 2, 3, 4, 5, 6, 7, 4, 3, 3, 40, 90]\n"
     ]
    }
   ],
   "source": [
    "# also stack is also the list  means we can use the above array as the stack\n",
    "arr = array\n",
    "arr.append(40)\n",
    "\n",
    "arr.append(90)\n",
    "print(arr)\n"
   ]
  },
  {
   "cell_type": "code",
   "execution_count": 16,
   "id": "09246f7b",
   "metadata": {},
   "outputs": [
    {
     "name": "stdout",
     "output_type": "stream",
     "text": [
      "[1, 2, 3, 4, 5, 6, 7, 4, 3, 3, 40]\n"
     ]
    }
   ],
   "source": [
    "arr.pop()\n",
    "print(arr)  # it will pop the last lement same as stack "
   ]
  },
  {
   "cell_type": "code",
   "execution_count": null,
   "id": "7661da9d",
   "metadata": {},
   "outputs": [
    {
     "name": "stdout",
     "output_type": "stream",
     "text": [
      "[1, 2, 3, 4, 5, 4, 3, 3, 40]\n",
      "[30, 1, 2, 3, 4, 5, 4, 3, 3, 40]\n"
     ]
    }
   ],
   "source": [
    "# we can also pop the middle elemnt means these are list overall  & insert at the middle s\n",
    "arr.pop(5)\n",
    "print(arr)\n",
    "arr.insert(0,30) # this operation is O(n)\n",
    "print(arr)"
   ]
  },
  {
   "cell_type": "code",
   "execution_count": 20,
   "id": "7560ed2a",
   "metadata": {},
   "outputs": [
    {
     "name": "stdout",
     "output_type": "stream",
     "text": [
      "[30, 1, 2, 3, 4, 5, 4, 45, 3, 40]\n"
     ]
    }
   ],
   "source": [
    "# but indexing is  O(1) operation in list \n",
    "arr[7]\n",
    "# even we can change the value at any index in O(1)\n",
    "arr[7] = 45\n",
    "print(arr)"
   ]
  },
  {
   "cell_type": "code",
   "execution_count": 22,
   "id": "7dcb2718",
   "metadata": {},
   "outputs": [
    {
     "name": "stdout",
     "output_type": "stream",
     "text": [
      "[1, 1, 1, 1, 1]\n",
      "5\n"
     ]
    }
   ],
   "source": [
    " # we can initialixe the arrr of size n with default value of 1\n",
    "n=5\n",
    "\n",
    "arr = [1]*n\n",
    "print(arr)\n",
    "print(len(arr))\n"
   ]
  },
  {
   "cell_type": "code",
   "execution_count": 24,
   "id": "b9981829",
   "metadata": {},
   "outputs": [
    {
     "name": "stdout",
     "output_type": "stream",
     "text": [
      "1\n"
     ]
    }
   ],
   "source": [
    "# carefull when indexing the array  when -ve values because these are list overall \n",
    "print(arr[-2]) # it will [print the last 2nd values] "
   ]
  },
  {
   "cell_type": "code",
   "execution_count": null,
   "id": "d8b9e171",
   "metadata": {},
   "outputs": [
    {
     "name": "stdout",
     "output_type": "stream",
     "text": [
      "[45, 11, 22, 43, 6]\n"
     ]
    }
   ],
   "source": [
    "# Slicing of the list  meas substring is very easy in py\n",
    "arr = [1,2,3,4,5,6,43,22,11,45]\n",
    "print(arr[2:4]) # it will sice the array from 2 to 4th index but not include 4th index \n",
    "print(arr[45:4:-1]) # while this means that the array is start from the 45 and pull out he 4 values and in -1 reverse order \n"
   ]
  },
  {
   "cell_type": "code",
   "execution_count": 28,
   "id": "16e5a17a",
   "metadata": {},
   "outputs": [
    {
     "name": "stdout",
     "output_type": "stream",
     "text": [
      "4\n",
      "5\n"
     ]
    }
   ],
   "source": [
    "# unpacking \n",
    "# we can assign the value to variables as list \n",
    "a,b,c,f,s,e = 2,3,4,5,6,4\n",
    "print(c) # but the vlues should be same as variables \n",
    "print(f)"
   ]
  },
  {
   "cell_type": "code",
   "execution_count": 37,
   "id": "29c51239",
   "metadata": {},
   "outputs": [
    {
     "name": "stdout",
     "output_type": "stream",
     "text": [
      "[1, 2, 3, 4, 5, 6, 43, 22, 11, 45]\n",
      "-1 1 1\n",
      "-2 45 2\n",
      "-3 11 3\n",
      "-4 22 4\n",
      "-5 43 5\n",
      "-6 6 6\n",
      "-43 5 43\n",
      "-22 4 22\n",
      "-11 3 11\n",
      "-45 2 45\n",
      "1\n",
      "2\n",
      "3\n",
      "4\n",
      "5\n",
      "6\n",
      "43\n",
      "22\n",
      "11\n",
      "45\n"
     ]
    }
   ],
   "source": [
    "# we can loop thorugh the array in mulltiple ways because they are list dude \n",
    "print(arr)\n",
    "for i in range (len(arr)):\n",
    "    print(arr[i]*-1,arr[i*-1],arr[i])\n",
    "# if we wnat to do it without useing the index\n",
    "for n in arr:\n",
    "    print(n)\n"
   ]
  },
  {
   "cell_type": "code",
   "execution_count": 38,
   "id": "c6ed6a5c",
   "metadata": {},
   "outputs": [
    {
     "name": "stdout",
     "output_type": "stream",
     "text": [
      "0 1\n",
      "1 2\n",
      "2 3\n",
      "3 4\n",
      "4 5\n",
      "5 6\n",
      "6 43\n",
      "7 22\n",
      "8 11\n",
      "9 45\n"
     ]
    }
   ],
   "source": [
    "# or we can do it wiht enumerate funciton\n",
    "for i, n in enumerate(arr): # it willl give te index a=and the second vallue \n",
    "    \n",
    "    print(i,n)"
   ]
  },
  {
   "cell_type": "code",
   "execution_count": 39,
   "id": "675a4813",
   "metadata": {},
   "outputs": [
    {
     "name": "stdout",
     "output_type": "stream",
     "text": [
      "0 1\n",
      "8 2\n",
      "7 3\n",
      "6 4\n",
      "5 5\n",
      "4 5\n"
     ]
    }
   ],
   "source": [
    "# if we want to iterate though multip;e array /list simultaneoulsy then we use zip fuc\n",
    "num1 = [1,2,3,4,5,5]\n",
    "num2 = [0,8,7,6,5,4]\n",
    "# zip will combine them and pack them in one list \n",
    "for n1, n2 in zip(num2,num1):\n",
    "    print(n1,n2)"
   ]
  },
  {
   "cell_type": "code",
   "execution_count": null,
   "id": "6b1e0922",
   "metadata": {},
   "outputs": [
    {
     "name": "stdout",
     "output_type": "stream",
     "text": [
      "[45, 43, 22, 11, 6, 5, 4, 3, 2, 1]\n",
      "[1, 2, 3, 4, 5, 6, 11, 22, 43, 45]\n",
      "[45, 43, 22, 11, 6, 5, 4, 3, 2, 1]\n",
      "[1, 2, 3, 4, 5, 6, 11, 22, 43, 45]\n"
     ]
    }
   ],
   "source": [
    " # soriting  = use timsort algo in backend \n",
    "print(arr)\n",
    "\n",
    "arr.sort()\n",
    "print(arr)\n",
    "# for reverse \n",
    "arr.sort(reverse = True)\n",
    "print(arr)\n",
    "#\n",
    "# or we can use this method to reverse thearrry\n",
    "\n",
    "print(arr[::-1])"
   ]
  },
  {
   "cell_type": "code",
   "execution_count": null,
   "id": "6d5c7104",
   "metadata": {},
   "outputs": [],
   "source": [
    "# we can sort the list of anythong \n",
    "# but if we want to sort the list of string in size scale // custom sort \n",
    "# then we need to implement the lambda funcion\n",
    "\n"
   ]
  },
  {
   "cell_type": "code",
   "execution_count": 46,
   "id": "da4155c2",
   "metadata": {},
   "outputs": [
    {
     "name": "stdout",
     "output_type": "stream",
     "text": [
      "Mohi\n"
     ]
    }
   ],
   "source": [
    "# STRING  \n",
    "name = 'Mohit Rao'\n",
    "print(name[0:4]) # we can do operation on the string same as on tuples because these both are immutable\n"
   ]
  },
  {
   "cell_type": "code",
   "execution_count": 52,
   "id": "ee37453b",
   "metadata": {},
   "outputs": [
    {
     "name": "stdout",
     "output_type": "stream",
     "text": [
      "112554\n",
      "ab5kabjaoge\n"
     ]
    }
   ],
   "source": [
    "# updating the stiring create a new string and it take O(N)\n",
    "# we can changes nums to string and string to nums using type conversion \n",
    "print(str(112)+str(554))\n",
    "\n",
    "print(''.join(['ab',str(5),'kab','jaoge']))"
   ]
  },
  {
   "cell_type": "code",
   "execution_count": 56,
   "id": "7c6b25bd",
   "metadata": {},
   "outputs": [
    {
     "name": "stdout",
     "output_type": "stream",
     "text": [
      "deque([1, 45])\n",
      "deque([5, 4, 1, 45, 90])\n",
      "deque([5, 4, 1, 45])\n",
      "deque([4, 1, 45])\n",
      "deque([4, 1])\n"
     ]
    }
   ],
   "source": [
    "# ques  are dounbly endded ques \n",
    "from collections import deque\n",
    "q = deque()\n",
    "q.append(1)\n",
    "q.append(45)\n",
    "print(q)\n",
    "q.appendleft(4)\n",
    "q.appendleft(5)\n",
    "q.append(90)\n",
    "print(q)\n",
    "q.pop()\n",
    "print(q)\n",
    "q.popleft()\n",
    "\n",
    "print(q)\n",
    "q.pop()\n",
    "print(q)\n",
    " \n",
    "\n"
   ]
  },
  {
   "cell_type": "code",
   "execution_count": null,
   "id": "2b4769d7",
   "metadata": {},
   "outputs": [],
   "source": [
    "# in python both are same or one dict() = hasmap ; but set is different\n",
    "sets : https://www.w3schools.com/python/python_sets.asp\n"
   ]
  },
  {
   "cell_type": "markdown",
   "id": "91aaa60a",
   "metadata": {},
   "source": [
    "### Set\n",
    "- Sets are used to store multiple items in a single variable.\n",
    "\n",
    "- Set is one of 4 built-in data types in Python used to store collections of data, the other 3 are List, Tuple, and Dictionary, all with different qualities and usage.\n",
    "\n",
    "- A set is a collection which is unordered, unchangeable*, and unindexed.\n",
    "- Note: Set items are unchangeable, but you can remove items and add new items.\n",
    "- Set items are unchangeable, meaning that we cannot change the items after the set has been created.\n",
    "-Once a set is created, you cannot change its items, but you can remove items and add new items.\n",
    "-  The values True and 1 are considered the same value in sets, and are treated as duplicates:\n",
    "- Note: The values False and 0 are considered the same value in sets, and are treated as duplicates:\n",
    "- To determine how many items a set has, use the len() function.\n",
    "- \n",
    "- A set can contain different data types:\n",
    "-It is also possible to use the set() constructor to make a set.\n"
   ]
  },
  {
   "cell_type": "code",
   "execution_count": null,
   "id": "7ae1e491",
   "metadata": {},
   "outputs": [],
   "source": [
    "thisset = {\"apple\", \"banana\", \"cherry\", True, 1, 2}\n",
    "\n",
    "print(thisset)\n",
    "\n",
    "thisset = {\"apple\", \"banana\", \"cherry\"}\n",
    "\n",
    "print(len(thisset))\n",
    "# set constructer\n",
    "thisset = set((\"apple\", \"banana\", \"cherry\")) # note the double round-brackets\n",
    "print(thisset)"
   ]
  },
  {
   "cell_type": "markdown",
   "id": "1122dee7",
   "metadata": {},
   "source": [
    "### There are four collection data types in the Python programming language:\n",
    "\n",
    "1. List is a collection which is ordered and changeable. Allows duplicate members.\n",
    "2. Tuple is a collection which is ordered and unchangeable. Allows duplicate members.\n",
    "3. Set is a collection which is unordered, unchangeable*, and unindexed. No duplicate members.\n",
    "4. Dictionary is a collection which is ordered** and changeable. No duplicate members.\n",
    "\n",
    "**As of Python version 3.7, dictionaries are ordered. In Python 3.6 and earlier, dictionaries are unordered.**\n",
    "1. d = dict();  t is also possible to use the dict() constructor to make a dictionary.\n",
    "2. d ={}\n",
    "- Dictionary items are ordered, changeable, and do not allow duplicates.\n",
    "- it means that the items have a defined order, and that order will not change.\n",
    "- Dictionaries are changeable, meaning that we can change, add or remove items after the dictionary has been created.\n",
    "- The values in dictionary items can be of any data type:"
   ]
  },
  {
   "cell_type": "code",
   "execution_count": null,
   "id": "83ce6677",
   "metadata": {},
   "outputs": [],
   "source": [
    "thisdict = {\n",
    "  \"brand\": \"Ford\",\n",
    "  \"model\": \"Mustang\",\n",
    "  \"year\": 1964\n",
    "}\n",
    "print(thisdict[\"brand\"])"
   ]
  }
 ],
 "metadata": {
  "kernelspec": {
   "display_name": "Python 3",
   "language": "python",
   "name": "python3"
  },
  "language_info": {
   "codemirror_mode": {
    "name": "ipython",
    "version": 3
   },
   "file_extension": ".py",
   "mimetype": "text/x-python",
   "name": "python",
   "nbconvert_exporter": "python",
   "pygments_lexer": "ipython3",
   "version": "3.12.10"
  }
 },
 "nbformat": 4,
 "nbformat_minor": 5
}
