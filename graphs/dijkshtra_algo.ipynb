{
 "cells": [
  {
   "cell_type": "markdown",
   "id": "02ed0968",
   "metadata": {},
   "source": [
    "# Dijkshtra Algorithm\n",
    "- find the shortest path from a node (called the \"source node\") to all other nodes in the graph, producing a shortest-path tree.\n",
    "-The algorithm keeps track of the currently known shortest distance from each node to the source node and it updates these values if it finds a shorter path.\n",
    "- Once the algorithm has found the shortest path between the source node and another node, that node is marked as \"visited\" and added to the path.\n",
    "- The process continues until all the nodes in the graph have been added to the path. This way, we have a path that connects the source node to all other nodes following the shortest path possible to reach each node.\n",
    "**Dijkstra's Algorithm** :-  can only work with graphs that have positive weights. This is because, during the process, the weights of the edges have to be added to find the shortest path.\n",
    "\n",
    "- **Yes** , Dijkstra's algorithm can work on both directed graphs and undirected graphs as this algorithm is designed to work on any type of graph as long as it meets the requirements of having non-negative edge weights and being connected."
   ]
  },
  {
   "cell_type": "markdown",
   "id": "09101744",
   "metadata": {},
   "source": [
    "- The algorithm maintains a set of visited vertices and a set of unvisited vertices. \n",
    "- It starts at the source vertex and iteratively selects the unvisited vertex with the smallest tentative distance from the source. \n",
    "- It then visits the neighbors of this vertex and updates their tentative distances if a shorter path is found. This process continues until the destination vertex is reached, or all reachable vertices have been visited."
   ]
  },
  {
   "cell_type": "markdown",
   "id": "204d4544",
   "metadata": {},
   "source": [
    "# we can solve it with 2 methods :\n",
    "- 1. priority queue : https://www.youtube.com/watch?v=V6H1qAeB-l4\n",
    "- 2. set method(most efficient) : https://www.youtube.com/watch?v=PATgNiuTP20\n",
    "\n"
   ]
  },
  {
   "cell_type": "markdown",
   "id": "e424e97e",
   "metadata": {},
   "source": [
    "# prepare these 3 questions asked in juspay \n",
    "1. https://www.geeksforgeeks.org/dsa/maximum-weight-node/\n",
    "2. https://www.geeksforgeeks.org/dsa/find-the-largest-sum-of-a-cycle-in-the-maze/\n",
    "3. https://leetcode.com/discuss/post/2032910/juspay-oa-nearest-meeting-cell-by-anonym-vj98/"
   ]
  },
  {
   "cell_type": "markdown",
   "id": "37fd04f9",
   "metadata": {},
   "source": []
  },
  {
   "cell_type": "markdown",
   "id": "8e3af446",
   "metadata": {},
   "source": [
    "\n",
    "\n",
    "---\n",
    "\n",
    "### ✅ Dijkstra's Algorithm using Set Method (Naive)\n",
    "\n",
    "\n",
    "### ⚠️ Drawbacks of Using Set Method:\n",
    "\n",
    "1. **Inefficient node selection**:\n",
    "   In each iteration, we use `min()` over all unvisited nodes, which takes **O(V)** time.\n",
    "\n",
    "2. **Total Time Complexity**:\n",
    "\n",
    "   * `O(V^2)` for dense graphs.\n",
    "   * Not suitable for large graphs (like road networks or internet maps).\n",
    "\n",
    "3. **Memory usage**:\n",
    "   Not very high, but selection overhead can become significant.\n",
    "\n"
   ]
  },
  {
   "cell_type": "code",
   "execution_count": 1,
   "id": "ce9708f3",
   "metadata": {},
   "outputs": [
    {
     "name": "stdout",
     "output_type": "stream",
     "text": [
      "Shortest paths using set method:\n",
      "Distance from A to A: 0\n",
      "Distance from A to B: 4\n",
      "Distance from A to C: 4\n",
      "Distance from A to D: 7\n",
      "Distance from A to E: 5\n",
      "Distance from A to F: 8\n"
     ]
    }
   ],
   "source": [
    "# Dijkstra using Set (Naive implementation)\n",
    "def dijkstra_set(graph, start):\n",
    "    visited = set()\n",
    "    dist = {node: float('inf') for node in graph}\n",
    "    dist[start] = 0\n",
    "\n",
    "    while len(visited) < len(graph):\n",
    "        # Find the unvisited node with the smallest distance\n",
    "        u = min((node for node in graph if node not in visited), key=lambda node: dist[node])\n",
    "\n",
    "        visited.add(u)\n",
    "\n",
    "        for neighbor, weight in graph[u]:\n",
    "            if neighbor not in visited:\n",
    "                new_dist = dist[u] + weight\n",
    "                if new_dist < dist[neighbor]:\n",
    "                    dist[neighbor] = new_dist\n",
    "\n",
    "    return dist\n",
    "\n",
    "\n",
    "# Sample Graph as adjacency list\n",
    "graph = {\n",
    "    'A': [('B', 4), ('C', 4)],\n",
    "    'B': [('A', 4), ('C', 2)],\n",
    "    'C': [('A', 4), ('B', 2), ('D', 3),('E',1),(\"F\",6)],\n",
    "    'D': [('B', 3), ('F', 2)],\n",
    "    'E':[('B', 1), ('F', 3)],\n",
    "    'F':[('B', 2), ('F', 3), ('D',2)]\n",
    "}\n",
    "\n",
    "# Run the algorithm\n",
    "shortest_paths = dijkstra_set(graph, 'A')\n",
    "print(\"Shortest paths using set method:\")\n",
    "for node in shortest_paths:\n",
    "    print(f\"Distance from A to {node}: {shortest_paths[node]}\")"
   ]
  },
  {
   "cell_type": "markdown",
   "id": "c75d6ebc",
   "metadata": {},
   "source": [
    "\n",
    "### ✅ Optimized Dijkstra's Algorithm using Min Heap (`heapq`)\n",
    "---\n",
    "\n",
    "### 🚀 Benefits of Using Min Heap:\n",
    "\n",
    "* **Efficient node selection**:\n",
    "  Each node is selected in `O(log V)` time using the heap.\n",
    "\n",
    "* **Time Complexity**:\n",
    "\n",
    "  * `O((V + E) log V)` – much faster for sparse graphs.\n",
    "  * Suitable for large datasets (like GPS routing, AI pathfinding).\n",
    "\n",
    "---\n",
    "\n",
    "### ✅ Summary:\n",
    "\n",
    "| Method            | Time Complexity  | Suitable For        | Drawback                     |\n",
    "| ----------------- | ---------------- | ------------------- | ---------------------------- |\n",
    "| Set-based         | O(V²)            | Small/Dense Graphs  | Slow on large graphs         |\n",
    "| Heap-based (Best) | O((V + E) log V) | Large/Sparse Graphs | Needs `heapq` (built-in lib) |\n"
   ]
  },
  {
   "cell_type": "code",
   "execution_count": 2,
   "id": "f247e4ba",
   "metadata": {},
   "outputs": [
    {
     "name": "stdout",
     "output_type": "stream",
     "text": [
      "\n",
      "Shortest paths using min heap (optimized):\n",
      "Distance from A to A: 0\n",
      "Distance from A to B: 4\n",
      "Distance from A to C: 4\n",
      "Distance from A to D: 7\n",
      "Distance from A to E: 5\n",
      "Distance from A to F: 8\n"
     ]
    }
   ],
   "source": [
    "import heapq\n",
    "\n",
    "def dijkstra_heap(graph, start):\n",
    "    dist = {node: float('inf') for node in graph}\n",
    "    dist[start] = 0\n",
    "\n",
    "    # Min heap: (distance, node)\n",
    "    min_heap = [(0, start)]\n",
    "\n",
    "    while min_heap:\n",
    "        current_dist, u = heapq.heappop(min_heap)\n",
    "\n",
    "        if current_dist > dist[u]:\n",
    "            continue  # Skip outdated pair\n",
    "\n",
    "        for neighbor, weight in graph[u]:\n",
    "            new_dist = current_dist + weight\n",
    "            if new_dist < dist[neighbor]:\n",
    "                dist[neighbor] = new_dist\n",
    "                heapq.heappush(min_heap, (new_dist, neighbor))\n",
    "\n",
    "    return dist\n",
    "\n",
    "\n",
    "# Same graph\n",
    "graph = {\n",
    "    'A': [('B', 4), ('C', 4)],\n",
    "    'B': [('A', 4), ('C', 2)],\n",
    "    'C': [('A', 4), ('B', 2), ('D', 3),('E',1),(\"F\",6)],\n",
    "    'D': [('B', 3), ('F', 2)],\n",
    "    'E':[('B', 1), ('F', 3)],\n",
    "    'F':[('B', 2), ('F', 3), ('D',2)]\n",
    "}\n",
    "\n",
    "# Run optimized version\n",
    "shortest_paths_opt = dijkstra_heap(graph, 'A')\n",
    "print(\"\\nShortest paths using min heap (optimized):\")\n",
    "for node in shortest_paths_opt:\n",
    "    print(f\"Distance from A to {node}: {shortest_paths_opt[node]}\")"
   ]
  },
  {
   "cell_type": "markdown",
   "id": "c6a91e8e",
   "metadata": {},
   "source": []
  }
 ],
 "metadata": {
  "kernelspec": {
   "display_name": "Python 3",
   "language": "python",
   "name": "python3"
  },
  "language_info": {
   "codemirror_mode": {
    "name": "ipython",
    "version": 3
   },
   "file_extension": ".py",
   "mimetype": "text/x-python",
   "name": "python",
   "nbconvert_exporter": "python",
   "pygments_lexer": "ipython3",
   "version": "3.13.3"
  }
 },
 "nbformat": 4,
 "nbformat_minor": 5
}
