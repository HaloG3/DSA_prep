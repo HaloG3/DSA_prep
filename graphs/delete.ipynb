{
 "cells": [
  {
   "cell_type": "code",
   "execution_count": 1,
   "id": "baa3b17f",
   "metadata": {},
   "outputs": [
    {
     "data": {
      "text/plain": [
       "{'i': ['j', 'k'],\n",
       " 'j': ['i'],\n",
       " 'k': ['i', 'm', 'l'],\n",
       " 'm': ['k'],\n",
       " 'l': ['k'],\n",
       " 'o': ['n'],\n",
       " 'n': ['o']}"
      ]
     },
     "execution_count": 1,
     "metadata": {},
     "output_type": "execute_result"
    }
   ],
   "source": [
    "def buildgraph (edges):\n",
    "    graph = {}\n",
    "    for edge in edges:\n",
    "        pointA, pointB = edge\n",
    "        if pointA not in graph:\n",
    "            graph[pointA] = []\n",
    "        if pointB not in graph:\n",
    "            graph[pointB] = []\n",
    "        graph[pointA].append(pointB)\n",
    "        graph[pointB].append(pointA)\n",
    "    return graph \n",
    "edges = [['i','j'],['k','i'],['m','k'],['k','l'],['o','n']]\n",
    "buildgraph(edges)"
   ]
  },
  {
   "cell_type": "code",
   "execution_count": 4,
   "id": "f8a93aed",
   "metadata": {},
   "outputs": [
    {
     "name": "stdout",
     "output_type": "stream",
     "text": [
      "Adjacency List Representations: \n",
      "0: 1 2\n",
      "1: 0 2\n",
      "2: 0 1 3\n",
      "3: 2\n"
     ]
    }
   ],
   "source": [
    "def add_edge(adj,i,j):\n",
    "    adj[i].append(j)\n",
    "    adj[j].append(i)\n",
    "def display_adj_list(adj):\n",
    "    for i in range(len(adj)):\n",
    "        print(f'{i}: ', end = \"\")\n",
    "        print(' '.join(map(str, adj[i])))\n",
    "\n",
    "V=4\n",
    "adj = [[] for _ in range(V)]\n",
    "\n",
    "add_edge(adj, 0,1)\n",
    "add_edge(adj, 0, 2)\n",
    "add_edge(adj, 1,2 )\n",
    "add_edge(adj, 2, 3)\n",
    "print('Adjacency List Representations: ')\n",
    "display_adj_list(adj)\n",
    "\n",
    "    \n"
   ]
  },
  {
   "cell_type": "code",
   "execution_count": 7,
   "id": "122e0dea",
   "metadata": {},
   "outputs": [
    {
     "name": "stdout",
     "output_type": "stream",
     "text": [
      "Adjacency matrix:\n",
      "0 1 1 0\n",
      "1 0 1 0\n",
      "1 1 0 1\n",
      "0 0 1 0\n"
     ]
    }
   ],
   "source": [
    "def add_edge(mat,i,j):\n",
    "    mat[i][j] = 1\n",
    "    mat[j][i] = 1\n",
    "\n",
    "def display_matrix(mat):\n",
    "    for row in mat:\n",
    "        print(' '.join(map(str,row)))\n",
    "\n",
    "if __name__ == \"__main__\":\n",
    "    V = 4\n",
    "    mat = [[0]*V for _ in range(V)]\n",
    "\n",
    "\n",
    "    add_edge(mat,0,1)\n",
    "    add_edge(mat,0,2)\n",
    "    add_edge(mat,1,2)\n",
    "    add_edge(mat,2,3)\n",
    "\n",
    "    print('Adjacency matrix:')\n",
    "    display_matrix(mat)"
   ]
  }
 ],
 "metadata": {
  "kernelspec": {
   "display_name": "Python 3",
   "language": "python",
   "name": "python3"
  },
  "language_info": {
   "codemirror_mode": {
    "name": "ipython",
    "version": 3
   },
   "file_extension": ".py",
   "mimetype": "text/x-python",
   "name": "python",
   "nbconvert_exporter": "python",
   "pygments_lexer": "ipython3",
   "version": "3.12.6"
  }
 },
 "nbformat": 4,
 "nbformat_minor": 5
}
