{
 "cells": [
  {
   "cell_type": "code",
   "execution_count": null,
   "id": "20f82046",
   "metadata": {},
   "outputs": [
    {
     "name": "stdout",
     "output_type": "stream",
     "text": [
      "7.0\n"
     ]
    }
   ],
   "source": [
    "#2. finding the square root of any number \n",
    "num = int(input ('Enter any number: '))\n",
    "sqroot = num**.5 #  if we want the int ouput then use int (num**.5)\n",
    "print(sqroot)\n",
    "# we can use the math.sqrt() also "
   ]
  },
  {
   "cell_type": "code",
   "execution_count": 2,
   "id": "7ebece76",
   "metadata": {},
   "outputs": [],
   "source": [
    "# area of the triangle \n",
    "# we need varialbles = height, base\n",
    "# put the formula = .5*base*height  or other trangles as their formulas \n",
    "\n"
   ]
  },
  {
   "cell_type": "code",
   "execution_count": 4,
   "id": "58969911",
   "metadata": {},
   "outputs": [
    {
     "name": "stdout",
     "output_type": "stream",
     "text": [
      "(-2.1435935394489825+0j) (-2.1435935394489825+0j)\n"
     ]
    }
   ],
   "source": [
    "# quadratic equation \n",
    "# we use c math module = cmplex maths \n",
    "# a**2+bx+c = 0  while a !=0, b,c are real numbe\n",
    "import cmath \n",
    "a = 4 \n",
    "b = 8\n",
    "c= 1\n",
    "\n",
    "# find the discriminant \n",
    "d = b**2-4*a*c\n",
    "root1= (-b+cmath.sqrt(d))/2*a\n",
    "root2 = (-b+cmath.sqrt(d))/2*a\n",
    "print(root1, root2)"
   ]
  },
  {
   "cell_type": "code",
   "execution_count": null,
   "id": "ecd79130",
   "metadata": {},
   "outputs": [
    {
     "name": "stdout",
     "output_type": "stream",
     "text": [
      "5 4\n",
      "4 5\n",
      "5 4\n"
     ]
    }
   ],
   "source": [
    "# swap two pragroams \n",
    "b,a = 4,5\n",
    "print(a,b)\n",
    "temp = a \n",
    "a = b\n",
    "b = temp\n",
    "print(a,b)\n",
    "# without using the third variable \n",
    "a,b = b,a \n",
    "print(a,b)"
   ]
  },
  {
   "cell_type": "code",
   "execution_count": null,
   "id": "a1a27d17",
   "metadata": {},
   "outputs": [
    {
     "name": "stdout",
     "output_type": "stream",
     "text": [
      "4\n"
     ]
    }
   ],
   "source": [
    "# program to print random number \n",
    "import random as r\n",
    "num = r.randint(1,6) from 1 to 6 \n",
    "print(num)"
   ]
  },
  {
   "cell_type": "code",
   "execution_count": 17,
   "id": "81595a62",
   "metadata": {},
   "outputs": [
    {
     "name": "stdout",
     "output_type": "stream",
     "text": [
      "21.126614 mile\n"
     ]
    }
   ],
   "source": [
    "# program toconvert km to miles \n",
    "# 1 km = 0.621371 mile \n",
    "km = 34 \n",
    "mile1= 0.621371\n",
    "mile = km* mile1\n",
    "print(mile, 'mile')"
   ]
  },
  {
   "cell_type": "code",
   "execution_count": 22,
   "id": "5f822fff",
   "metadata": {},
   "outputs": [
    {
     "name": "stdout",
     "output_type": "stream",
     "text": [
      "75.2\n"
     ]
    }
   ],
   "source": [
    "# celcius to fahrenheit \n",
    "# 0 degre = 32 fahrenheit\n",
    "#(c*9/5)+32 \n",
    "temp = 24 \n",
    "result= (temp*9/5)+32\n",
    "\n",
    "print(result)\n",
    "\n"
   ]
  },
  {
   "cell_type": "code",
   "execution_count": null,
   "id": "193473cd",
   "metadata": {},
   "outputs": [
    {
     "name": "stdout",
     "output_type": "stream",
     "text": [
      "it is a leap year\n"
     ]
    }
   ],
   "source": [
    "# check leap year or not \n",
    "year = 40000\n",
    "if year%100 ==0 and year%400 ==0:\n",
    "    print('it is a leap year')\n",
    "elif year%4 ==0 :\n",
    "    print('it is a leap year')\n",
    "else:\n",
    "    print('It is not a leap year ')"
   ]
  },
  {
   "cell_type": "code",
   "execution_count": 51,
   "id": "8188b228",
   "metadata": {},
   "outputs": [
    {
     "name": "stdout",
     "output_type": "stream",
     "text": [
      "58 22\n"
     ]
    }
   ],
   "source": [
    "# largest number among list \n",
    "num = [23,24,22,56,58]\n",
    "num.sort()\n",
    "print(num[-1], num[0]) # largest , smalles "
   ]
  },
  {
   "cell_type": "code",
   "execution_count": 56,
   "id": "96632f65",
   "metadata": {},
   "outputs": [
    {
     "name": "stdout",
     "output_type": "stream",
     "text": [
      "True\n"
     ]
    }
   ],
   "source": [
    "# check number is prime or not\n",
    "def is_prime(num):\n",
    "    if num<=1:\n",
    "        return False \n",
    "    for i in range (2, int(num**.5)+1):\n",
    "        if num % i == 0:\n",
    "            flag == False \n",
    "    return True\n",
    "\n",
    "\n",
    "num = 13\n",
    "print(is_prime(num))\n"
   ]
  },
  {
   "cell_type": "code",
   "execution_count": null,
   "id": "a332c6f9",
   "metadata": {},
   "outputs": [],
   "source": []
  },
  {
   "cell_type": "code",
   "execution_count": null,
   "id": "9c864c75",
   "metadata": {},
   "outputs": [],
   "source": []
  }
 ],
 "metadata": {
  "kernelspec": {
   "display_name": "Python 3",
   "language": "python",
   "name": "python3"
  },
  "language_info": {
   "codemirror_mode": {
    "name": "ipython",
    "version": 3
   },
   "file_extension": ".py",
   "mimetype": "text/x-python",
   "name": "python",
   "nbconvert_exporter": "python",
   "pygments_lexer": "ipython3",
   "version": "3.12.10"
  }
 },
 "nbformat": 4,
 "nbformat_minor": 5
}
